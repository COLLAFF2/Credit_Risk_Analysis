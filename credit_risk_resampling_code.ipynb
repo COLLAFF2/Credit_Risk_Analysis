{
 "cells": [
  {
   "cell_type": "markdown",
   "metadata": {},
   "source": [
    "# Credit Risk Resampling Techniques"
   ]
  },
  {
   "cell_type": "code",
   "execution_count": 1,
   "metadata": {},
   "outputs": [
    {
     "name": "stdout",
     "output_type": "stream",
     "text": [
      "Requirement already satisfied: environment_kernels in /Users/philliprodriguez/opt/anaconda3/lib/python3.9/site-packages (1.1.1)\n",
      "Note: you may need to restart the kernel to use updated packages.\n"
     ]
    }
   ],
   "source": [
    "pip install environment_kernels"
   ]
  },
  {
   "cell_type": "code",
   "execution_count": 2,
   "metadata": {},
   "outputs": [
    {
     "name": "stdout",
     "output_type": "stream",
     "text": [
      "Requirement already satisfied: imblearn in /Users/philliprodriguez/opt/anaconda3/lib/python3.9/site-packages (0.0)\n",
      "Requirement already satisfied: imbalanced-learn in /Users/philliprodriguez/opt/anaconda3/lib/python3.9/site-packages (from imblearn) (0.9.1)\n",
      "Requirement already satisfied: joblib>=1.0.0 in /Users/philliprodriguez/opt/anaconda3/lib/python3.9/site-packages (from imbalanced-learn->imblearn) (1.1.0)\n",
      "Requirement already satisfied: threadpoolctl>=2.0.0 in /Users/philliprodriguez/opt/anaconda3/lib/python3.9/site-packages (from imbalanced-learn->imblearn) (2.2.0)\n",
      "Requirement already satisfied: numpy>=1.17.3 in /Users/philliprodriguez/opt/anaconda3/lib/python3.9/site-packages (from imbalanced-learn->imblearn) (1.21.5)\n",
      "Requirement already satisfied: scikit-learn>=1.1.0 in /Users/philliprodriguez/opt/anaconda3/lib/python3.9/site-packages (from imbalanced-learn->imblearn) (1.1.2)\n",
      "Requirement already satisfied: scipy>=1.3.2 in /Users/philliprodriguez/opt/anaconda3/lib/python3.9/site-packages (from imbalanced-learn->imblearn) (1.7.3)\n",
      "Note: you may need to restart the kernel to use updated packages.\n"
     ]
    }
   ],
   "source": [
    "pip install imblearn"
   ]
  },
  {
   "cell_type": "code",
   "execution_count": 3,
   "metadata": {},
   "outputs": [],
   "source": [
    "import warnings\n",
    "warnings.filterwarnings('ignore')"
   ]
  },
  {
   "cell_type": "code",
   "execution_count": 111,
   "metadata": {},
   "outputs": [],
   "source": [
    "import numpy as np\n",
    "import pandas as pd\n",
    "from pathlib import Path\n",
    "from collections import Counter\n",
    "import matplotlib.pyplot as plt"
   ]
  },
  {
   "cell_type": "code",
   "execution_count": 5,
   "metadata": {},
   "outputs": [
    {
     "data": {
      "text/html": [
       "<div>\n",
       "<style scoped>\n",
       "    .dataframe tbody tr th:only-of-type {\n",
       "        vertical-align: middle;\n",
       "    }\n",
       "\n",
       "    .dataframe tbody tr th {\n",
       "        vertical-align: top;\n",
       "    }\n",
       "\n",
       "    .dataframe thead th {\n",
       "        text-align: right;\n",
       "    }\n",
       "</style>\n",
       "<table border=\"1\" class=\"dataframe\">\n",
       "  <thead>\n",
       "    <tr style=\"text-align: right;\">\n",
       "      <th></th>\n",
       "      <th>id</th>\n",
       "      <th>member_id</th>\n",
       "      <th>loan_amnt</th>\n",
       "      <th>funded_amnt</th>\n",
       "      <th>funded_amnt_inv</th>\n",
       "      <th>term</th>\n",
       "      <th>int_rate</th>\n",
       "      <th>installment</th>\n",
       "      <th>grade</th>\n",
       "      <th>sub_grade</th>\n",
       "      <th>...</th>\n",
       "      <th>orig_projected_additional_accrued_interest</th>\n",
       "      <th>hardship_payoff_balance_amount</th>\n",
       "      <th>hardship_last_payment_amount</th>\n",
       "      <th>debt_settlement_flag</th>\n",
       "      <th>debt_settlement_flag_date</th>\n",
       "      <th>settlement_status</th>\n",
       "      <th>settlement_date</th>\n",
       "      <th>settlement_amount</th>\n",
       "      <th>settlement_percentage</th>\n",
       "      <th>settlement_term</th>\n",
       "    </tr>\n",
       "  </thead>\n",
       "  <tbody>\n",
       "    <tr>\n",
       "      <th>0</th>\n",
       "      <td>NaN</td>\n",
       "      <td>NaN</td>\n",
       "      <td>20000.0</td>\n",
       "      <td>20000.0</td>\n",
       "      <td>20000.0</td>\n",
       "      <td>60 months</td>\n",
       "      <td>17.19%</td>\n",
       "      <td>499.10</td>\n",
       "      <td>C</td>\n",
       "      <td>C5</td>\n",
       "      <td>...</td>\n",
       "      <td>NaN</td>\n",
       "      <td>NaN</td>\n",
       "      <td>NaN</td>\n",
       "      <td>N</td>\n",
       "      <td>NaN</td>\n",
       "      <td>NaN</td>\n",
       "      <td>NaN</td>\n",
       "      <td>NaN</td>\n",
       "      <td>NaN</td>\n",
       "      <td>NaN</td>\n",
       "    </tr>\n",
       "    <tr>\n",
       "      <th>1</th>\n",
       "      <td>NaN</td>\n",
       "      <td>NaN</td>\n",
       "      <td>21225.0</td>\n",
       "      <td>21225.0</td>\n",
       "      <td>21225.0</td>\n",
       "      <td>60 months</td>\n",
       "      <td>14.74%</td>\n",
       "      <td>502.05</td>\n",
       "      <td>C</td>\n",
       "      <td>C2</td>\n",
       "      <td>...</td>\n",
       "      <td>NaN</td>\n",
       "      <td>NaN</td>\n",
       "      <td>NaN</td>\n",
       "      <td>N</td>\n",
       "      <td>NaN</td>\n",
       "      <td>NaN</td>\n",
       "      <td>NaN</td>\n",
       "      <td>NaN</td>\n",
       "      <td>NaN</td>\n",
       "      <td>NaN</td>\n",
       "    </tr>\n",
       "    <tr>\n",
       "      <th>2</th>\n",
       "      <td>NaN</td>\n",
       "      <td>NaN</td>\n",
       "      <td>5000.0</td>\n",
       "      <td>5000.0</td>\n",
       "      <td>5000.0</td>\n",
       "      <td>36 months</td>\n",
       "      <td>17.97%</td>\n",
       "      <td>180.69</td>\n",
       "      <td>D</td>\n",
       "      <td>D1</td>\n",
       "      <td>...</td>\n",
       "      <td>NaN</td>\n",
       "      <td>NaN</td>\n",
       "      <td>NaN</td>\n",
       "      <td>N</td>\n",
       "      <td>NaN</td>\n",
       "      <td>NaN</td>\n",
       "      <td>NaN</td>\n",
       "      <td>NaN</td>\n",
       "      <td>NaN</td>\n",
       "      <td>NaN</td>\n",
       "    </tr>\n",
       "    <tr>\n",
       "      <th>3</th>\n",
       "      <td>NaN</td>\n",
       "      <td>NaN</td>\n",
       "      <td>20000.0</td>\n",
       "      <td>20000.0</td>\n",
       "      <td>20000.0</td>\n",
       "      <td>36 months</td>\n",
       "      <td>8.19%</td>\n",
       "      <td>628.49</td>\n",
       "      <td>A</td>\n",
       "      <td>A4</td>\n",
       "      <td>...</td>\n",
       "      <td>NaN</td>\n",
       "      <td>NaN</td>\n",
       "      <td>NaN</td>\n",
       "      <td>N</td>\n",
       "      <td>NaN</td>\n",
       "      <td>NaN</td>\n",
       "      <td>NaN</td>\n",
       "      <td>NaN</td>\n",
       "      <td>NaN</td>\n",
       "      <td>NaN</td>\n",
       "    </tr>\n",
       "    <tr>\n",
       "      <th>4</th>\n",
       "      <td>NaN</td>\n",
       "      <td>NaN</td>\n",
       "      <td>12000.0</td>\n",
       "      <td>12000.0</td>\n",
       "      <td>12000.0</td>\n",
       "      <td>60 months</td>\n",
       "      <td>15.57%</td>\n",
       "      <td>289.09</td>\n",
       "      <td>C</td>\n",
       "      <td>C3</td>\n",
       "      <td>...</td>\n",
       "      <td>NaN</td>\n",
       "      <td>NaN</td>\n",
       "      <td>NaN</td>\n",
       "      <td>N</td>\n",
       "      <td>NaN</td>\n",
       "      <td>NaN</td>\n",
       "      <td>NaN</td>\n",
       "      <td>NaN</td>\n",
       "      <td>NaN</td>\n",
       "      <td>NaN</td>\n",
       "    </tr>\n",
       "    <tr>\n",
       "      <th>...</th>\n",
       "      <td>...</td>\n",
       "      <td>...</td>\n",
       "      <td>...</td>\n",
       "      <td>...</td>\n",
       "      <td>...</td>\n",
       "      <td>...</td>\n",
       "      <td>...</td>\n",
       "      <td>...</td>\n",
       "      <td>...</td>\n",
       "      <td>...</td>\n",
       "      <td>...</td>\n",
       "      <td>...</td>\n",
       "      <td>...</td>\n",
       "      <td>...</td>\n",
       "      <td>...</td>\n",
       "      <td>...</td>\n",
       "      <td>...</td>\n",
       "      <td>...</td>\n",
       "      <td>...</td>\n",
       "      <td>...</td>\n",
       "      <td>...</td>\n",
       "    </tr>\n",
       "    <tr>\n",
       "      <th>115670</th>\n",
       "      <td>NaN</td>\n",
       "      <td>NaN</td>\n",
       "      <td>5000.0</td>\n",
       "      <td>5000.0</td>\n",
       "      <td>5000.0</td>\n",
       "      <td>36 months</td>\n",
       "      <td>13.56%</td>\n",
       "      <td>169.83</td>\n",
       "      <td>C</td>\n",
       "      <td>C1</td>\n",
       "      <td>...</td>\n",
       "      <td>NaN</td>\n",
       "      <td>NaN</td>\n",
       "      <td>NaN</td>\n",
       "      <td>N</td>\n",
       "      <td>NaN</td>\n",
       "      <td>NaN</td>\n",
       "      <td>NaN</td>\n",
       "      <td>NaN</td>\n",
       "      <td>NaN</td>\n",
       "      <td>NaN</td>\n",
       "    </tr>\n",
       "    <tr>\n",
       "      <th>115671</th>\n",
       "      <td>NaN</td>\n",
       "      <td>NaN</td>\n",
       "      <td>6000.0</td>\n",
       "      <td>6000.0</td>\n",
       "      <td>6000.0</td>\n",
       "      <td>36 months</td>\n",
       "      <td>6.46%</td>\n",
       "      <td>183.79</td>\n",
       "      <td>A</td>\n",
       "      <td>A1</td>\n",
       "      <td>...</td>\n",
       "      <td>NaN</td>\n",
       "      <td>NaN</td>\n",
       "      <td>NaN</td>\n",
       "      <td>N</td>\n",
       "      <td>NaN</td>\n",
       "      <td>NaN</td>\n",
       "      <td>NaN</td>\n",
       "      <td>NaN</td>\n",
       "      <td>NaN</td>\n",
       "      <td>NaN</td>\n",
       "    </tr>\n",
       "    <tr>\n",
       "      <th>115672</th>\n",
       "      <td>NaN</td>\n",
       "      <td>NaN</td>\n",
       "      <td>16000.0</td>\n",
       "      <td>16000.0</td>\n",
       "      <td>16000.0</td>\n",
       "      <td>36 months</td>\n",
       "      <td>16.14%</td>\n",
       "      <td>563.62</td>\n",
       "      <td>C</td>\n",
       "      <td>C4</td>\n",
       "      <td>...</td>\n",
       "      <td>NaN</td>\n",
       "      <td>NaN</td>\n",
       "      <td>NaN</td>\n",
       "      <td>N</td>\n",
       "      <td>NaN</td>\n",
       "      <td>NaN</td>\n",
       "      <td>NaN</td>\n",
       "      <td>NaN</td>\n",
       "      <td>NaN</td>\n",
       "      <td>NaN</td>\n",
       "    </tr>\n",
       "    <tr>\n",
       "      <th>115673</th>\n",
       "      <td>NaN</td>\n",
       "      <td>NaN</td>\n",
       "      <td>16000.0</td>\n",
       "      <td>16000.0</td>\n",
       "      <td>16000.0</td>\n",
       "      <td>60 months</td>\n",
       "      <td>11.31%</td>\n",
       "      <td>350.36</td>\n",
       "      <td>B</td>\n",
       "      <td>B3</td>\n",
       "      <td>...</td>\n",
       "      <td>NaN</td>\n",
       "      <td>NaN</td>\n",
       "      <td>NaN</td>\n",
       "      <td>N</td>\n",
       "      <td>NaN</td>\n",
       "      <td>NaN</td>\n",
       "      <td>NaN</td>\n",
       "      <td>NaN</td>\n",
       "      <td>NaN</td>\n",
       "      <td>NaN</td>\n",
       "    </tr>\n",
       "    <tr>\n",
       "      <th>115674</th>\n",
       "      <td>NaN</td>\n",
       "      <td>NaN</td>\n",
       "      <td>29250.0</td>\n",
       "      <td>29250.0</td>\n",
       "      <td>29250.0</td>\n",
       "      <td>60 months</td>\n",
       "      <td>18.94%</td>\n",
       "      <td>757.80</td>\n",
       "      <td>D</td>\n",
       "      <td>D2</td>\n",
       "      <td>...</td>\n",
       "      <td>NaN</td>\n",
       "      <td>NaN</td>\n",
       "      <td>NaN</td>\n",
       "      <td>N</td>\n",
       "      <td>NaN</td>\n",
       "      <td>NaN</td>\n",
       "      <td>NaN</td>\n",
       "      <td>NaN</td>\n",
       "      <td>NaN</td>\n",
       "      <td>NaN</td>\n",
       "    </tr>\n",
       "  </tbody>\n",
       "</table>\n",
       "<p>115675 rows × 144 columns</p>\n",
       "</div>"
      ],
      "text/plain": [
       "         id  member_id  loan_amnt  funded_amnt  funded_amnt_inv        term  \\\n",
       "0       NaN        NaN    20000.0      20000.0          20000.0   60 months   \n",
       "1       NaN        NaN    21225.0      21225.0          21225.0   60 months   \n",
       "2       NaN        NaN     5000.0       5000.0           5000.0   36 months   \n",
       "3       NaN        NaN    20000.0      20000.0          20000.0   36 months   \n",
       "4       NaN        NaN    12000.0      12000.0          12000.0   60 months   \n",
       "...     ...        ...        ...          ...              ...         ...   \n",
       "115670  NaN        NaN     5000.0       5000.0           5000.0   36 months   \n",
       "115671  NaN        NaN     6000.0       6000.0           6000.0   36 months   \n",
       "115672  NaN        NaN    16000.0      16000.0          16000.0   36 months   \n",
       "115673  NaN        NaN    16000.0      16000.0          16000.0   60 months   \n",
       "115674  NaN        NaN    29250.0      29250.0          29250.0   60 months   \n",
       "\n",
       "       int_rate  installment grade sub_grade  ...  \\\n",
       "0        17.19%       499.10     C        C5  ...   \n",
       "1        14.74%       502.05     C        C2  ...   \n",
       "2        17.97%       180.69     D        D1  ...   \n",
       "3         8.19%       628.49     A        A4  ...   \n",
       "4        15.57%       289.09     C        C3  ...   \n",
       "...         ...          ...   ...       ...  ...   \n",
       "115670   13.56%       169.83     C        C1  ...   \n",
       "115671    6.46%       183.79     A        A1  ...   \n",
       "115672   16.14%       563.62     C        C4  ...   \n",
       "115673   11.31%       350.36     B        B3  ...   \n",
       "115674   18.94%       757.80     D        D2  ...   \n",
       "\n",
       "       orig_projected_additional_accrued_interest  \\\n",
       "0                                             NaN   \n",
       "1                                             NaN   \n",
       "2                                             NaN   \n",
       "3                                             NaN   \n",
       "4                                             NaN   \n",
       "...                                           ...   \n",
       "115670                                        NaN   \n",
       "115671                                        NaN   \n",
       "115672                                        NaN   \n",
       "115673                                        NaN   \n",
       "115674                                        NaN   \n",
       "\n",
       "       hardship_payoff_balance_amount hardship_last_payment_amount  \\\n",
       "0                                 NaN                          NaN   \n",
       "1                                 NaN                          NaN   \n",
       "2                                 NaN                          NaN   \n",
       "3                                 NaN                          NaN   \n",
       "4                                 NaN                          NaN   \n",
       "...                               ...                          ...   \n",
       "115670                            NaN                          NaN   \n",
       "115671                            NaN                          NaN   \n",
       "115672                            NaN                          NaN   \n",
       "115673                            NaN                          NaN   \n",
       "115674                            NaN                          NaN   \n",
       "\n",
       "        debt_settlement_flag debt_settlement_flag_date settlement_status  \\\n",
       "0                          N                       NaN               NaN   \n",
       "1                          N                       NaN               NaN   \n",
       "2                          N                       NaN               NaN   \n",
       "3                          N                       NaN               NaN   \n",
       "4                          N                       NaN               NaN   \n",
       "...                      ...                       ...               ...   \n",
       "115670                     N                       NaN               NaN   \n",
       "115671                     N                       NaN               NaN   \n",
       "115672                     N                       NaN               NaN   \n",
       "115673                     N                       NaN               NaN   \n",
       "115674                     N                       NaN               NaN   \n",
       "\n",
       "       settlement_date settlement_amount  settlement_percentage  \\\n",
       "0                  NaN               NaN                    NaN   \n",
       "1                  NaN               NaN                    NaN   \n",
       "2                  NaN               NaN                    NaN   \n",
       "3                  NaN               NaN                    NaN   \n",
       "4                  NaN               NaN                    NaN   \n",
       "...                ...               ...                    ...   \n",
       "115670             NaN               NaN                    NaN   \n",
       "115671             NaN               NaN                    NaN   \n",
       "115672             NaN               NaN                    NaN   \n",
       "115673             NaN               NaN                    NaN   \n",
       "115674             NaN               NaN                    NaN   \n",
       "\n",
       "        settlement_term  \n",
       "0                   NaN  \n",
       "1                   NaN  \n",
       "2                   NaN  \n",
       "3                   NaN  \n",
       "4                   NaN  \n",
       "...                 ...  \n",
       "115670              NaN  \n",
       "115671              NaN  \n",
       "115672              NaN  \n",
       "115673              NaN  \n",
       "115674              NaN  \n",
       "\n",
       "[115675 rows x 144 columns]"
      ]
     },
     "execution_count": 5,
     "metadata": {},
     "output_type": "execute_result"
    }
   ],
   "source": [
    "#read csv\n",
    "file_path = Path('LoanStats_2019Q1.csv')\n",
    "df =pd.read_csv(file_path, skiprows=1)[:-2]\n",
    "df"
   ]
  },
  {
   "cell_type": "code",
   "execution_count": 6,
   "metadata": {},
   "outputs": [
    {
     "name": "stdout",
     "output_type": "stream",
     "text": [
      "<class 'pandas.core.frame.DataFrame'>\n",
      "RangeIndex: 115675 entries, 0 to 115674\n",
      "Columns: 144 entries, id to settlement_term\n",
      "dtypes: float64(117), object(27)\n",
      "memory usage: 127.1+ MB\n"
     ]
    }
   ],
   "source": [
    "df.info()"
   ]
  },
  {
   "cell_type": "markdown",
   "metadata": {},
   "source": [
    "# Read the CSV and Perform Basic Data Cleaning"
   ]
  },
  {
   "cell_type": "code",
   "execution_count": 7,
   "metadata": {},
   "outputs": [],
   "source": [
    "columns = [\n",
    "    \"loan_amnt\", \"int_rate\", \"installment\", \"home_ownership\",\n",
    "    \"annual_inc\", \"verification_status\", \"issue_d\", \"loan_status\",\n",
    "    \"pymnt_plan\", \"dti\", \"delinq_2yrs\", \"inq_last_6mths\",\n",
    "    \"open_acc\", \"pub_rec\", \"revol_bal\", \"total_acc\",\n",
    "    \"initial_list_status\", \"out_prncp\", \"out_prncp_inv\", \"total_pymnt\",\n",
    "    \"total_pymnt_inv\", \"total_rec_prncp\", \"total_rec_int\", \"total_rec_late_fee\",\n",
    "    \"recoveries\", \"collection_recovery_fee\", \"last_pymnt_amnt\", \"next_pymnt_d\",\n",
    "    \"collections_12_mths_ex_med\", \"policy_code\", \"application_type\", \"acc_now_delinq\",\n",
    "    \"tot_coll_amt\", \"tot_cur_bal\", \"open_acc_6m\", \"open_act_il\",\n",
    "    \"open_il_12m\", \"open_il_24m\", \"mths_since_rcnt_il\", \"total_bal_il\",\n",
    "    \"il_util\", \"open_rv_12m\", \"open_rv_24m\", \"max_bal_bc\",\n",
    "    \"all_util\", \"total_rev_hi_lim\", \"inq_fi\", \"total_cu_tl\",\n",
    "    \"inq_last_12m\", \"acc_open_past_24mths\", \"avg_cur_bal\", \"bc_open_to_buy\",\n",
    "    \"bc_util\", \"chargeoff_within_12_mths\", \"delinq_amnt\", \"mo_sin_old_il_acct\",\n",
    "    \"mo_sin_old_rev_tl_op\", \"mo_sin_rcnt_rev_tl_op\", \"mo_sin_rcnt_tl\", \"mort_acc\",\n",
    "    \"mths_since_recent_bc\", \"mths_since_recent_inq\", \"num_accts_ever_120_pd\", \"num_actv_bc_tl\",\n",
    "    \"num_actv_rev_tl\", \"num_bc_sats\", \"num_bc_tl\", \"num_il_tl\",\n",
    "    \"num_op_rev_tl\", \"num_rev_accts\", \"num_rev_tl_bal_gt_0\",\n",
    "    \"num_sats\", \"num_tl_120dpd_2m\", \"num_tl_30dpd\", \"num_tl_90g_dpd_24m\",\n",
    "    \"num_tl_op_past_12m\", \"pct_tl_nvr_dlq\", \"percent_bc_gt_75\", \"pub_rec_bankruptcies\",\n",
    "    \"tax_liens\", \"tot_hi_cred_lim\", \"total_bal_ex_mort\", \"total_bc_limit\",\n",
    "    \"total_il_high_credit_limit\", \"hardship_flag\", \"debt_settlement_flag\"\n",
    "]\n",
    "\n",
    "target = [\"loan_status\"]"
   ]
  },
  {
   "cell_type": "code",
   "execution_count": 8,
   "metadata": {},
   "outputs": [
    {
     "name": "stdout",
     "output_type": "stream",
     "text": [
      "86\n"
     ]
    }
   ],
   "source": [
    "print(len(columns))"
   ]
  },
  {
   "cell_type": "code",
   "execution_count": 9,
   "metadata": {},
   "outputs": [
    {
     "data": {
      "text/html": [
       "<div>\n",
       "<style scoped>\n",
       "    .dataframe tbody tr th:only-of-type {\n",
       "        vertical-align: middle;\n",
       "    }\n",
       "\n",
       "    .dataframe tbody tr th {\n",
       "        vertical-align: top;\n",
       "    }\n",
       "\n",
       "    .dataframe thead th {\n",
       "        text-align: right;\n",
       "    }\n",
       "</style>\n",
       "<table border=\"1\" class=\"dataframe\">\n",
       "  <thead>\n",
       "    <tr style=\"text-align: right;\">\n",
       "      <th></th>\n",
       "      <th>loan_amnt</th>\n",
       "      <th>int_rate</th>\n",
       "      <th>installment</th>\n",
       "      <th>home_ownership</th>\n",
       "      <th>annual_inc</th>\n",
       "      <th>verification_status</th>\n",
       "      <th>issue_d</th>\n",
       "      <th>loan_status</th>\n",
       "      <th>pymnt_plan</th>\n",
       "      <th>dti</th>\n",
       "      <th>...</th>\n",
       "      <th>pct_tl_nvr_dlq</th>\n",
       "      <th>percent_bc_gt_75</th>\n",
       "      <th>pub_rec_bankruptcies</th>\n",
       "      <th>tax_liens</th>\n",
       "      <th>tot_hi_cred_lim</th>\n",
       "      <th>total_bal_ex_mort</th>\n",
       "      <th>total_bc_limit</th>\n",
       "      <th>total_il_high_credit_limit</th>\n",
       "      <th>hardship_flag</th>\n",
       "      <th>debt_settlement_flag</th>\n",
       "    </tr>\n",
       "  </thead>\n",
       "  <tbody>\n",
       "    <tr>\n",
       "      <th>0</th>\n",
       "      <td>10500.0</td>\n",
       "      <td>0.1719</td>\n",
       "      <td>375.35</td>\n",
       "      <td>RENT</td>\n",
       "      <td>66000.0</td>\n",
       "      <td>Source Verified</td>\n",
       "      <td>Mar-2019</td>\n",
       "      <td>low_risk</td>\n",
       "      <td>n</td>\n",
       "      <td>27.24</td>\n",
       "      <td>...</td>\n",
       "      <td>85.7</td>\n",
       "      <td>100.0</td>\n",
       "      <td>0.0</td>\n",
       "      <td>0.0</td>\n",
       "      <td>65687.0</td>\n",
       "      <td>38199.0</td>\n",
       "      <td>2000.0</td>\n",
       "      <td>61987.0</td>\n",
       "      <td>N</td>\n",
       "      <td>N</td>\n",
       "    </tr>\n",
       "    <tr>\n",
       "      <th>1</th>\n",
       "      <td>25000.0</td>\n",
       "      <td>0.2000</td>\n",
       "      <td>929.09</td>\n",
       "      <td>MORTGAGE</td>\n",
       "      <td>105000.0</td>\n",
       "      <td>Verified</td>\n",
       "      <td>Mar-2019</td>\n",
       "      <td>low_risk</td>\n",
       "      <td>n</td>\n",
       "      <td>20.23</td>\n",
       "      <td>...</td>\n",
       "      <td>91.2</td>\n",
       "      <td>50.0</td>\n",
       "      <td>1.0</td>\n",
       "      <td>0.0</td>\n",
       "      <td>271427.0</td>\n",
       "      <td>60641.0</td>\n",
       "      <td>41200.0</td>\n",
       "      <td>49197.0</td>\n",
       "      <td>N</td>\n",
       "      <td>N</td>\n",
       "    </tr>\n",
       "    <tr>\n",
       "      <th>2</th>\n",
       "      <td>20000.0</td>\n",
       "      <td>0.2000</td>\n",
       "      <td>529.88</td>\n",
       "      <td>MORTGAGE</td>\n",
       "      <td>56000.0</td>\n",
       "      <td>Verified</td>\n",
       "      <td>Mar-2019</td>\n",
       "      <td>low_risk</td>\n",
       "      <td>n</td>\n",
       "      <td>24.26</td>\n",
       "      <td>...</td>\n",
       "      <td>66.7</td>\n",
       "      <td>50.0</td>\n",
       "      <td>0.0</td>\n",
       "      <td>0.0</td>\n",
       "      <td>60644.0</td>\n",
       "      <td>45684.0</td>\n",
       "      <td>7500.0</td>\n",
       "      <td>43144.0</td>\n",
       "      <td>N</td>\n",
       "      <td>N</td>\n",
       "    </tr>\n",
       "    <tr>\n",
       "      <th>3</th>\n",
       "      <td>10000.0</td>\n",
       "      <td>0.1640</td>\n",
       "      <td>353.55</td>\n",
       "      <td>RENT</td>\n",
       "      <td>92000.0</td>\n",
       "      <td>Verified</td>\n",
       "      <td>Mar-2019</td>\n",
       "      <td>low_risk</td>\n",
       "      <td>n</td>\n",
       "      <td>31.44</td>\n",
       "      <td>...</td>\n",
       "      <td>100.0</td>\n",
       "      <td>50.0</td>\n",
       "      <td>1.0</td>\n",
       "      <td>0.0</td>\n",
       "      <td>99506.0</td>\n",
       "      <td>68784.0</td>\n",
       "      <td>19700.0</td>\n",
       "      <td>76506.0</td>\n",
       "      <td>N</td>\n",
       "      <td>N</td>\n",
       "    </tr>\n",
       "    <tr>\n",
       "      <th>4</th>\n",
       "      <td>22000.0</td>\n",
       "      <td>0.1474</td>\n",
       "      <td>520.39</td>\n",
       "      <td>MORTGAGE</td>\n",
       "      <td>52000.0</td>\n",
       "      <td>Not Verified</td>\n",
       "      <td>Mar-2019</td>\n",
       "      <td>low_risk</td>\n",
       "      <td>n</td>\n",
       "      <td>18.76</td>\n",
       "      <td>...</td>\n",
       "      <td>100.0</td>\n",
       "      <td>0.0</td>\n",
       "      <td>0.0</td>\n",
       "      <td>0.0</td>\n",
       "      <td>219750.0</td>\n",
       "      <td>25919.0</td>\n",
       "      <td>27600.0</td>\n",
       "      <td>20000.0</td>\n",
       "      <td>N</td>\n",
       "      <td>N</td>\n",
       "    </tr>\n",
       "  </tbody>\n",
       "</table>\n",
       "<p>5 rows × 86 columns</p>\n",
       "</div>"
      ],
      "text/plain": [
       "   loan_amnt  int_rate  installment home_ownership  annual_inc  \\\n",
       "0    10500.0    0.1719       375.35           RENT     66000.0   \n",
       "1    25000.0    0.2000       929.09       MORTGAGE    105000.0   \n",
       "2    20000.0    0.2000       529.88       MORTGAGE     56000.0   \n",
       "3    10000.0    0.1640       353.55           RENT     92000.0   \n",
       "4    22000.0    0.1474       520.39       MORTGAGE     52000.0   \n",
       "\n",
       "  verification_status   issue_d loan_status pymnt_plan    dti  ...  \\\n",
       "0     Source Verified  Mar-2019    low_risk          n  27.24  ...   \n",
       "1            Verified  Mar-2019    low_risk          n  20.23  ...   \n",
       "2            Verified  Mar-2019    low_risk          n  24.26  ...   \n",
       "3            Verified  Mar-2019    low_risk          n  31.44  ...   \n",
       "4        Not Verified  Mar-2019    low_risk          n  18.76  ...   \n",
       "\n",
       "   pct_tl_nvr_dlq  percent_bc_gt_75  pub_rec_bankruptcies  tax_liens  \\\n",
       "0            85.7             100.0                   0.0        0.0   \n",
       "1            91.2              50.0                   1.0        0.0   \n",
       "2            66.7              50.0                   0.0        0.0   \n",
       "3           100.0              50.0                   1.0        0.0   \n",
       "4           100.0               0.0                   0.0        0.0   \n",
       "\n",
       "   tot_hi_cred_lim  total_bal_ex_mort total_bc_limit  \\\n",
       "0          65687.0            38199.0         2000.0   \n",
       "1         271427.0            60641.0        41200.0   \n",
       "2          60644.0            45684.0         7500.0   \n",
       "3          99506.0            68784.0        19700.0   \n",
       "4         219750.0            25919.0        27600.0   \n",
       "\n",
       "   total_il_high_credit_limit  hardship_flag  debt_settlement_flag  \n",
       "0                     61987.0              N                     N  \n",
       "1                     49197.0              N                     N  \n",
       "2                     43144.0              N                     N  \n",
       "3                     76506.0              N                     N  \n",
       "4                     20000.0              N                     N  \n",
       "\n",
       "[5 rows x 86 columns]"
      ]
     },
     "execution_count": 9,
     "metadata": {},
     "output_type": "execute_result"
    }
   ],
   "source": [
    "# Load the data\n",
    "\n",
    "df = df.loc[:, columns].copy()\n",
    "\n",
    "# Drop the null columns where all values are null\n",
    "df = df.dropna(axis='columns', how='all')\n",
    "\n",
    "# Drop the null rows\n",
    "df = df.dropna()\n",
    "\n",
    "# Remove the `Issued` loan status\n",
    "issued_mask = df['loan_status'] != 'Issued'\n",
    "df = df.loc[issued_mask]\n",
    "\n",
    "# convert interest rate to numerical\n",
    "df['int_rate'] = df['int_rate'].str.replace('%', '')\n",
    "df['int_rate'] = df['int_rate'].astype('float') / 100\n",
    "\n",
    "\n",
    "# Convert the target column values to low_risk and high_risk based on their values\n",
    "x = {'Current': 'low_risk'}   \n",
    "df = df.replace(x)\n",
    "\n",
    "x = dict.fromkeys(['Late (31-120 days)', 'Late (16-30 days)', 'Default', 'In Grace Period'], 'high_risk')    \n",
    "df = df.replace(x)\n",
    "\n",
    "df.reset_index(inplace=True, drop=True)\n",
    "\n",
    "df.head()"
   ]
  },
  {
   "cell_type": "markdown",
   "metadata": {},
   "source": [
    "Create the training variables by converting the string values into numerical ones using the get_dummies() method.\n"
   ]
  },
  {
   "cell_type": "code",
   "execution_count": 10,
   "metadata": {},
   "outputs": [
    {
     "name": "stdout",
     "output_type": "stream",
     "text": [
      "10\n"
     ]
    }
   ],
   "source": [
    "# what are categorical value counts\n",
    "columns_obj = df.select_dtypes(include='object').columns\n",
    "print(len(columns_obj))"
   ]
  },
  {
   "cell_type": "code",
   "execution_count": 11,
   "metadata": {},
   "outputs": [
    {
     "data": {
      "text/plain": [
       "Index(['home_ownership', 'verification_status', 'issue_d', 'loan_status',\n",
       "       'pymnt_plan', 'initial_list_status', 'next_pymnt_d', 'application_type',\n",
       "       'hardship_flag', 'debt_settlement_flag'],\n",
       "      dtype='object')"
      ]
     },
     "execution_count": 11,
     "metadata": {},
     "output_type": "execute_result"
    }
   ],
   "source": [
    "# get_dummies method in pandas\n",
    "columns_obj"
   ]
  },
  {
   "cell_type": "code",
   "execution_count": 12,
   "metadata": {},
   "outputs": [
    {
     "data": {
      "text/plain": [
       "MORTGAGE    36219\n",
       "RENT        24613\n",
       "OWN          7346\n",
       "ANY           639\n",
       "Name: home_ownership, dtype: int64"
      ]
     },
     "execution_count": 12,
     "metadata": {},
     "output_type": "execute_result"
    }
   ],
   "source": [
    "# examine homeownership\n",
    "df['home_ownership'].value_counts()"
   ]
  },
  {
   "cell_type": "code",
   "execution_count": 13,
   "metadata": {},
   "outputs": [
    {
     "data": {
      "text/plain": [
       "(68817, 83)"
      ]
     },
     "execution_count": 13,
     "metadata": {},
     "output_type": "execute_result"
    }
   ],
   "source": [
    "# drop columns that have one value in value_counts\n",
    "df =df.drop(columns=['debt_settlement_flag', 'hardship_flag','pymnt_plan'])\n",
    "df.shape"
   ]
  },
  {
   "cell_type": "code",
   "execution_count": 14,
   "metadata": {},
   "outputs": [
    {
     "data": {
      "text/html": [
       "<div>\n",
       "<style scoped>\n",
       "    .dataframe tbody tr th:only-of-type {\n",
       "        vertical-align: middle;\n",
       "    }\n",
       "\n",
       "    .dataframe tbody tr th {\n",
       "        vertical-align: top;\n",
       "    }\n",
       "\n",
       "    .dataframe thead th {\n",
       "        text-align: right;\n",
       "    }\n",
       "</style>\n",
       "<table border=\"1\" class=\"dataframe\">\n",
       "  <thead>\n",
       "    <tr style=\"text-align: right;\">\n",
       "      <th></th>\n",
       "      <th>loan_amnt</th>\n",
       "      <th>int_rate</th>\n",
       "      <th>installment</th>\n",
       "      <th>home_ownership</th>\n",
       "      <th>annual_inc</th>\n",
       "      <th>verification_status</th>\n",
       "      <th>issue_d</th>\n",
       "      <th>loan_status</th>\n",
       "      <th>dti</th>\n",
       "      <th>delinq_2yrs</th>\n",
       "      <th>...</th>\n",
       "      <th>num_tl_90g_dpd_24m</th>\n",
       "      <th>num_tl_op_past_12m</th>\n",
       "      <th>pct_tl_nvr_dlq</th>\n",
       "      <th>percent_bc_gt_75</th>\n",
       "      <th>pub_rec_bankruptcies</th>\n",
       "      <th>tax_liens</th>\n",
       "      <th>tot_hi_cred_lim</th>\n",
       "      <th>total_bal_ex_mort</th>\n",
       "      <th>total_bc_limit</th>\n",
       "      <th>total_il_high_credit_limit</th>\n",
       "    </tr>\n",
       "  </thead>\n",
       "  <tbody>\n",
       "    <tr>\n",
       "      <th>0</th>\n",
       "      <td>10500.0</td>\n",
       "      <td>0.1719</td>\n",
       "      <td>375.35</td>\n",
       "      <td>RENT</td>\n",
       "      <td>66000.0</td>\n",
       "      <td>Source Verified</td>\n",
       "      <td>Mar-2019</td>\n",
       "      <td>low_risk</td>\n",
       "      <td>27.24</td>\n",
       "      <td>0.0</td>\n",
       "      <td>...</td>\n",
       "      <td>0.0</td>\n",
       "      <td>3.0</td>\n",
       "      <td>85.7</td>\n",
       "      <td>100.0</td>\n",
       "      <td>0.0</td>\n",
       "      <td>0.0</td>\n",
       "      <td>65687.0</td>\n",
       "      <td>38199.0</td>\n",
       "      <td>2000.0</td>\n",
       "      <td>61987.0</td>\n",
       "    </tr>\n",
       "    <tr>\n",
       "      <th>1</th>\n",
       "      <td>25000.0</td>\n",
       "      <td>0.2000</td>\n",
       "      <td>929.09</td>\n",
       "      <td>MORTGAGE</td>\n",
       "      <td>105000.0</td>\n",
       "      <td>Verified</td>\n",
       "      <td>Mar-2019</td>\n",
       "      <td>low_risk</td>\n",
       "      <td>20.23</td>\n",
       "      <td>0.0</td>\n",
       "      <td>...</td>\n",
       "      <td>0.0</td>\n",
       "      <td>6.0</td>\n",
       "      <td>91.2</td>\n",
       "      <td>50.0</td>\n",
       "      <td>1.0</td>\n",
       "      <td>0.0</td>\n",
       "      <td>271427.0</td>\n",
       "      <td>60641.0</td>\n",
       "      <td>41200.0</td>\n",
       "      <td>49197.0</td>\n",
       "    </tr>\n",
       "    <tr>\n",
       "      <th>2</th>\n",
       "      <td>20000.0</td>\n",
       "      <td>0.2000</td>\n",
       "      <td>529.88</td>\n",
       "      <td>MORTGAGE</td>\n",
       "      <td>56000.0</td>\n",
       "      <td>Verified</td>\n",
       "      <td>Mar-2019</td>\n",
       "      <td>low_risk</td>\n",
       "      <td>24.26</td>\n",
       "      <td>0.0</td>\n",
       "      <td>...</td>\n",
       "      <td>0.0</td>\n",
       "      <td>4.0</td>\n",
       "      <td>66.7</td>\n",
       "      <td>50.0</td>\n",
       "      <td>0.0</td>\n",
       "      <td>0.0</td>\n",
       "      <td>60644.0</td>\n",
       "      <td>45684.0</td>\n",
       "      <td>7500.0</td>\n",
       "      <td>43144.0</td>\n",
       "    </tr>\n",
       "    <tr>\n",
       "      <th>3</th>\n",
       "      <td>10000.0</td>\n",
       "      <td>0.1640</td>\n",
       "      <td>353.55</td>\n",
       "      <td>RENT</td>\n",
       "      <td>92000.0</td>\n",
       "      <td>Verified</td>\n",
       "      <td>Mar-2019</td>\n",
       "      <td>low_risk</td>\n",
       "      <td>31.44</td>\n",
       "      <td>0.0</td>\n",
       "      <td>...</td>\n",
       "      <td>0.0</td>\n",
       "      <td>1.0</td>\n",
       "      <td>100.0</td>\n",
       "      <td>50.0</td>\n",
       "      <td>1.0</td>\n",
       "      <td>0.0</td>\n",
       "      <td>99506.0</td>\n",
       "      <td>68784.0</td>\n",
       "      <td>19700.0</td>\n",
       "      <td>76506.0</td>\n",
       "    </tr>\n",
       "    <tr>\n",
       "      <th>4</th>\n",
       "      <td>22000.0</td>\n",
       "      <td>0.1474</td>\n",
       "      <td>520.39</td>\n",
       "      <td>MORTGAGE</td>\n",
       "      <td>52000.0</td>\n",
       "      <td>Not Verified</td>\n",
       "      <td>Mar-2019</td>\n",
       "      <td>low_risk</td>\n",
       "      <td>18.76</td>\n",
       "      <td>0.0</td>\n",
       "      <td>...</td>\n",
       "      <td>0.0</td>\n",
       "      <td>1.0</td>\n",
       "      <td>100.0</td>\n",
       "      <td>0.0</td>\n",
       "      <td>0.0</td>\n",
       "      <td>0.0</td>\n",
       "      <td>219750.0</td>\n",
       "      <td>25919.0</td>\n",
       "      <td>27600.0</td>\n",
       "      <td>20000.0</td>\n",
       "    </tr>\n",
       "  </tbody>\n",
       "</table>\n",
       "<p>5 rows × 83 columns</p>\n",
       "</div>"
      ],
      "text/plain": [
       "   loan_amnt  int_rate  installment home_ownership  annual_inc  \\\n",
       "0    10500.0    0.1719       375.35           RENT     66000.0   \n",
       "1    25000.0    0.2000       929.09       MORTGAGE    105000.0   \n",
       "2    20000.0    0.2000       529.88       MORTGAGE     56000.0   \n",
       "3    10000.0    0.1640       353.55           RENT     92000.0   \n",
       "4    22000.0    0.1474       520.39       MORTGAGE     52000.0   \n",
       "\n",
       "  verification_status   issue_d loan_status    dti  delinq_2yrs  ...  \\\n",
       "0     Source Verified  Mar-2019    low_risk  27.24          0.0  ...   \n",
       "1            Verified  Mar-2019    low_risk  20.23          0.0  ...   \n",
       "2            Verified  Mar-2019    low_risk  24.26          0.0  ...   \n",
       "3            Verified  Mar-2019    low_risk  31.44          0.0  ...   \n",
       "4        Not Verified  Mar-2019    low_risk  18.76          0.0  ...   \n",
       "\n",
       "   num_tl_90g_dpd_24m  num_tl_op_past_12m  pct_tl_nvr_dlq  percent_bc_gt_75  \\\n",
       "0                 0.0                 3.0            85.7             100.0   \n",
       "1                 0.0                 6.0            91.2              50.0   \n",
       "2                 0.0                 4.0            66.7              50.0   \n",
       "3                 0.0                 1.0           100.0              50.0   \n",
       "4                 0.0                 1.0           100.0               0.0   \n",
       "\n",
       "   pub_rec_bankruptcies tax_liens  tot_hi_cred_lim  total_bal_ex_mort  \\\n",
       "0                   0.0       0.0          65687.0            38199.0   \n",
       "1                   1.0       0.0         271427.0            60641.0   \n",
       "2                   0.0       0.0          60644.0            45684.0   \n",
       "3                   1.0       0.0          99506.0            68784.0   \n",
       "4                   0.0       0.0         219750.0            25919.0   \n",
       "\n",
       "   total_bc_limit  total_il_high_credit_limit  \n",
       "0          2000.0                     61987.0  \n",
       "1         41200.0                     49197.0  \n",
       "2          7500.0                     43144.0  \n",
       "3         19700.0                     76506.0  \n",
       "4         27600.0                     20000.0  \n",
       "\n",
       "[5 rows x 83 columns]"
      ]
     },
     "execution_count": 14,
     "metadata": {},
     "output_type": "execute_result"
    }
   ],
   "source": [
    "df.head()"
   ]
  },
  {
   "cell_type": "code",
   "execution_count": 15,
   "metadata": {},
   "outputs": [],
   "source": [
    "# save df as clean_df csv file\n",
    "clean_df = df\n",
    "clean_df.to_csv(\"./Data/clean_df.csv\",index=False)"
   ]
  },
  {
   "cell_type": "code",
   "execution_count": 16,
   "metadata": {},
   "outputs": [
    {
     "data": {
      "text/html": [
       "<div>\n",
       "<style scoped>\n",
       "    .dataframe tbody tr th:only-of-type {\n",
       "        vertical-align: middle;\n",
       "    }\n",
       "\n",
       "    .dataframe tbody tr th {\n",
       "        vertical-align: top;\n",
       "    }\n",
       "\n",
       "    .dataframe thead th {\n",
       "        text-align: right;\n",
       "    }\n",
       "</style>\n",
       "<table border=\"1\" class=\"dataframe\">\n",
       "  <thead>\n",
       "    <tr style=\"text-align: right;\">\n",
       "      <th></th>\n",
       "      <th>loan_amnt</th>\n",
       "      <th>int_rate</th>\n",
       "      <th>installment</th>\n",
       "      <th>home_ownership</th>\n",
       "      <th>annual_inc</th>\n",
       "      <th>verification_status</th>\n",
       "      <th>issue_d</th>\n",
       "      <th>loan_status</th>\n",
       "      <th>dti</th>\n",
       "      <th>delinq_2yrs</th>\n",
       "      <th>...</th>\n",
       "      <th>num_tl_90g_dpd_24m</th>\n",
       "      <th>num_tl_op_past_12m</th>\n",
       "      <th>pct_tl_nvr_dlq</th>\n",
       "      <th>percent_bc_gt_75</th>\n",
       "      <th>pub_rec_bankruptcies</th>\n",
       "      <th>tax_liens</th>\n",
       "      <th>tot_hi_cred_lim</th>\n",
       "      <th>total_bal_ex_mort</th>\n",
       "      <th>total_bc_limit</th>\n",
       "      <th>total_il_high_credit_limit</th>\n",
       "    </tr>\n",
       "  </thead>\n",
       "  <tbody>\n",
       "    <tr>\n",
       "      <th>0</th>\n",
       "      <td>10500.0</td>\n",
       "      <td>0.1719</td>\n",
       "      <td>375.35</td>\n",
       "      <td>RENT</td>\n",
       "      <td>66000.0</td>\n",
       "      <td>Source Verified</td>\n",
       "      <td>Mar-2019</td>\n",
       "      <td>low_risk</td>\n",
       "      <td>27.24</td>\n",
       "      <td>0.0</td>\n",
       "      <td>...</td>\n",
       "      <td>0.0</td>\n",
       "      <td>3.0</td>\n",
       "      <td>85.7</td>\n",
       "      <td>100.0</td>\n",
       "      <td>0.0</td>\n",
       "      <td>0.0</td>\n",
       "      <td>65687.0</td>\n",
       "      <td>38199.0</td>\n",
       "      <td>2000.0</td>\n",
       "      <td>61987.0</td>\n",
       "    </tr>\n",
       "    <tr>\n",
       "      <th>1</th>\n",
       "      <td>25000.0</td>\n",
       "      <td>0.2000</td>\n",
       "      <td>929.09</td>\n",
       "      <td>MORTGAGE</td>\n",
       "      <td>105000.0</td>\n",
       "      <td>Verified</td>\n",
       "      <td>Mar-2019</td>\n",
       "      <td>low_risk</td>\n",
       "      <td>20.23</td>\n",
       "      <td>0.0</td>\n",
       "      <td>...</td>\n",
       "      <td>0.0</td>\n",
       "      <td>6.0</td>\n",
       "      <td>91.2</td>\n",
       "      <td>50.0</td>\n",
       "      <td>1.0</td>\n",
       "      <td>0.0</td>\n",
       "      <td>271427.0</td>\n",
       "      <td>60641.0</td>\n",
       "      <td>41200.0</td>\n",
       "      <td>49197.0</td>\n",
       "    </tr>\n",
       "    <tr>\n",
       "      <th>2</th>\n",
       "      <td>20000.0</td>\n",
       "      <td>0.2000</td>\n",
       "      <td>529.88</td>\n",
       "      <td>MORTGAGE</td>\n",
       "      <td>56000.0</td>\n",
       "      <td>Verified</td>\n",
       "      <td>Mar-2019</td>\n",
       "      <td>low_risk</td>\n",
       "      <td>24.26</td>\n",
       "      <td>0.0</td>\n",
       "      <td>...</td>\n",
       "      <td>0.0</td>\n",
       "      <td>4.0</td>\n",
       "      <td>66.7</td>\n",
       "      <td>50.0</td>\n",
       "      <td>0.0</td>\n",
       "      <td>0.0</td>\n",
       "      <td>60644.0</td>\n",
       "      <td>45684.0</td>\n",
       "      <td>7500.0</td>\n",
       "      <td>43144.0</td>\n",
       "    </tr>\n",
       "    <tr>\n",
       "      <th>3</th>\n",
       "      <td>10000.0</td>\n",
       "      <td>0.1640</td>\n",
       "      <td>353.55</td>\n",
       "      <td>RENT</td>\n",
       "      <td>92000.0</td>\n",
       "      <td>Verified</td>\n",
       "      <td>Mar-2019</td>\n",
       "      <td>low_risk</td>\n",
       "      <td>31.44</td>\n",
       "      <td>0.0</td>\n",
       "      <td>...</td>\n",
       "      <td>0.0</td>\n",
       "      <td>1.0</td>\n",
       "      <td>100.0</td>\n",
       "      <td>50.0</td>\n",
       "      <td>1.0</td>\n",
       "      <td>0.0</td>\n",
       "      <td>99506.0</td>\n",
       "      <td>68784.0</td>\n",
       "      <td>19700.0</td>\n",
       "      <td>76506.0</td>\n",
       "    </tr>\n",
       "    <tr>\n",
       "      <th>4</th>\n",
       "      <td>22000.0</td>\n",
       "      <td>0.1474</td>\n",
       "      <td>520.39</td>\n",
       "      <td>MORTGAGE</td>\n",
       "      <td>52000.0</td>\n",
       "      <td>Not Verified</td>\n",
       "      <td>Mar-2019</td>\n",
       "      <td>low_risk</td>\n",
       "      <td>18.76</td>\n",
       "      <td>0.0</td>\n",
       "      <td>...</td>\n",
       "      <td>0.0</td>\n",
       "      <td>1.0</td>\n",
       "      <td>100.0</td>\n",
       "      <td>0.0</td>\n",
       "      <td>0.0</td>\n",
       "      <td>0.0</td>\n",
       "      <td>219750.0</td>\n",
       "      <td>25919.0</td>\n",
       "      <td>27600.0</td>\n",
       "      <td>20000.0</td>\n",
       "    </tr>\n",
       "  </tbody>\n",
       "</table>\n",
       "<p>5 rows × 83 columns</p>\n",
       "</div>"
      ],
      "text/plain": [
       "   loan_amnt  int_rate  installment home_ownership  annual_inc  \\\n",
       "0    10500.0    0.1719       375.35           RENT     66000.0   \n",
       "1    25000.0    0.2000       929.09       MORTGAGE    105000.0   \n",
       "2    20000.0    0.2000       529.88       MORTGAGE     56000.0   \n",
       "3    10000.0    0.1640       353.55           RENT     92000.0   \n",
       "4    22000.0    0.1474       520.39       MORTGAGE     52000.0   \n",
       "\n",
       "  verification_status   issue_d loan_status    dti  delinq_2yrs  ...  \\\n",
       "0     Source Verified  Mar-2019    low_risk  27.24          0.0  ...   \n",
       "1            Verified  Mar-2019    low_risk  20.23          0.0  ...   \n",
       "2            Verified  Mar-2019    low_risk  24.26          0.0  ...   \n",
       "3            Verified  Mar-2019    low_risk  31.44          0.0  ...   \n",
       "4        Not Verified  Mar-2019    low_risk  18.76          0.0  ...   \n",
       "\n",
       "   num_tl_90g_dpd_24m  num_tl_op_past_12m  pct_tl_nvr_dlq  percent_bc_gt_75  \\\n",
       "0                 0.0                 3.0            85.7             100.0   \n",
       "1                 0.0                 6.0            91.2              50.0   \n",
       "2                 0.0                 4.0            66.7              50.0   \n",
       "3                 0.0                 1.0           100.0              50.0   \n",
       "4                 0.0                 1.0           100.0               0.0   \n",
       "\n",
       "   pub_rec_bankruptcies tax_liens  tot_hi_cred_lim  total_bal_ex_mort  \\\n",
       "0                   0.0       0.0          65687.0            38199.0   \n",
       "1                   1.0       0.0         271427.0            60641.0   \n",
       "2                   0.0       0.0          60644.0            45684.0   \n",
       "3                   1.0       0.0          99506.0            68784.0   \n",
       "4                   0.0       0.0         219750.0            25919.0   \n",
       "\n",
       "   total_bc_limit  total_il_high_credit_limit  \n",
       "0          2000.0                     61987.0  \n",
       "1         41200.0                     49197.0  \n",
       "2          7500.0                     43144.0  \n",
       "3         19700.0                     76506.0  \n",
       "4         27600.0                     20000.0  \n",
       "\n",
       "[5 rows x 83 columns]"
      ]
     },
     "execution_count": 16,
     "metadata": {},
     "output_type": "execute_result"
    }
   ],
   "source": [
    "# read  in csv file\n",
    "loans_df = pd.read_csv(\"./Data/clean_df.csv\")\n",
    "loans_df.head()"
   ]
  },
  {
   "cell_type": "markdown",
   "metadata": {},
   "source": [
    "# Split the Data into Training and Testing"
   ]
  },
  {
   "cell_type": "code",
   "execution_count": null,
   "metadata": {},
   "outputs": [],
   "source": []
  },
  {
   "cell_type": "code",
   "execution_count": 17,
   "metadata": {},
   "outputs": [
    {
     "data": {
      "text/html": [
       "<div>\n",
       "<style scoped>\n",
       "    .dataframe tbody tr th:only-of-type {\n",
       "        vertical-align: middle;\n",
       "    }\n",
       "\n",
       "    .dataframe tbody tr th {\n",
       "        vertical-align: top;\n",
       "    }\n",
       "\n",
       "    .dataframe thead th {\n",
       "        text-align: right;\n",
       "    }\n",
       "</style>\n",
       "<table border=\"1\" class=\"dataframe\">\n",
       "  <thead>\n",
       "    <tr style=\"text-align: right;\">\n",
       "      <th></th>\n",
       "      <th>loan_amnt</th>\n",
       "      <th>int_rate</th>\n",
       "      <th>installment</th>\n",
       "      <th>home_ownership</th>\n",
       "      <th>annual_inc</th>\n",
       "      <th>verification_status</th>\n",
       "      <th>issue_d</th>\n",
       "      <th>dti</th>\n",
       "      <th>delinq_2yrs</th>\n",
       "      <th>inq_last_6mths</th>\n",
       "      <th>...</th>\n",
       "      <th>num_tl_90g_dpd_24m</th>\n",
       "      <th>num_tl_op_past_12m</th>\n",
       "      <th>pct_tl_nvr_dlq</th>\n",
       "      <th>percent_bc_gt_75</th>\n",
       "      <th>pub_rec_bankruptcies</th>\n",
       "      <th>tax_liens</th>\n",
       "      <th>tot_hi_cred_lim</th>\n",
       "      <th>total_bal_ex_mort</th>\n",
       "      <th>total_bc_limit</th>\n",
       "      <th>total_il_high_credit_limit</th>\n",
       "    </tr>\n",
       "  </thead>\n",
       "  <tbody>\n",
       "    <tr>\n",
       "      <th>0</th>\n",
       "      <td>10500.0</td>\n",
       "      <td>0.1719</td>\n",
       "      <td>375.35</td>\n",
       "      <td>RENT</td>\n",
       "      <td>66000.0</td>\n",
       "      <td>Source Verified</td>\n",
       "      <td>Mar-2019</td>\n",
       "      <td>27.24</td>\n",
       "      <td>0.0</td>\n",
       "      <td>0.0</td>\n",
       "      <td>...</td>\n",
       "      <td>0.0</td>\n",
       "      <td>3.0</td>\n",
       "      <td>85.7</td>\n",
       "      <td>100.0</td>\n",
       "      <td>0.0</td>\n",
       "      <td>0.0</td>\n",
       "      <td>65687.0</td>\n",
       "      <td>38199.0</td>\n",
       "      <td>2000.0</td>\n",
       "      <td>61987.0</td>\n",
       "    </tr>\n",
       "    <tr>\n",
       "      <th>1</th>\n",
       "      <td>25000.0</td>\n",
       "      <td>0.2000</td>\n",
       "      <td>929.09</td>\n",
       "      <td>MORTGAGE</td>\n",
       "      <td>105000.0</td>\n",
       "      <td>Verified</td>\n",
       "      <td>Mar-2019</td>\n",
       "      <td>20.23</td>\n",
       "      <td>0.0</td>\n",
       "      <td>0.0</td>\n",
       "      <td>...</td>\n",
       "      <td>0.0</td>\n",
       "      <td>6.0</td>\n",
       "      <td>91.2</td>\n",
       "      <td>50.0</td>\n",
       "      <td>1.0</td>\n",
       "      <td>0.0</td>\n",
       "      <td>271427.0</td>\n",
       "      <td>60641.0</td>\n",
       "      <td>41200.0</td>\n",
       "      <td>49197.0</td>\n",
       "    </tr>\n",
       "    <tr>\n",
       "      <th>2</th>\n",
       "      <td>20000.0</td>\n",
       "      <td>0.2000</td>\n",
       "      <td>529.88</td>\n",
       "      <td>MORTGAGE</td>\n",
       "      <td>56000.0</td>\n",
       "      <td>Verified</td>\n",
       "      <td>Mar-2019</td>\n",
       "      <td>24.26</td>\n",
       "      <td>0.0</td>\n",
       "      <td>0.0</td>\n",
       "      <td>...</td>\n",
       "      <td>0.0</td>\n",
       "      <td>4.0</td>\n",
       "      <td>66.7</td>\n",
       "      <td>50.0</td>\n",
       "      <td>0.0</td>\n",
       "      <td>0.0</td>\n",
       "      <td>60644.0</td>\n",
       "      <td>45684.0</td>\n",
       "      <td>7500.0</td>\n",
       "      <td>43144.0</td>\n",
       "    </tr>\n",
       "    <tr>\n",
       "      <th>3</th>\n",
       "      <td>10000.0</td>\n",
       "      <td>0.1640</td>\n",
       "      <td>353.55</td>\n",
       "      <td>RENT</td>\n",
       "      <td>92000.0</td>\n",
       "      <td>Verified</td>\n",
       "      <td>Mar-2019</td>\n",
       "      <td>31.44</td>\n",
       "      <td>0.0</td>\n",
       "      <td>1.0</td>\n",
       "      <td>...</td>\n",
       "      <td>0.0</td>\n",
       "      <td>1.0</td>\n",
       "      <td>100.0</td>\n",
       "      <td>50.0</td>\n",
       "      <td>1.0</td>\n",
       "      <td>0.0</td>\n",
       "      <td>99506.0</td>\n",
       "      <td>68784.0</td>\n",
       "      <td>19700.0</td>\n",
       "      <td>76506.0</td>\n",
       "    </tr>\n",
       "    <tr>\n",
       "      <th>4</th>\n",
       "      <td>22000.0</td>\n",
       "      <td>0.1474</td>\n",
       "      <td>520.39</td>\n",
       "      <td>MORTGAGE</td>\n",
       "      <td>52000.0</td>\n",
       "      <td>Not Verified</td>\n",
       "      <td>Mar-2019</td>\n",
       "      <td>18.76</td>\n",
       "      <td>0.0</td>\n",
       "      <td>1.0</td>\n",
       "      <td>...</td>\n",
       "      <td>0.0</td>\n",
       "      <td>1.0</td>\n",
       "      <td>100.0</td>\n",
       "      <td>0.0</td>\n",
       "      <td>0.0</td>\n",
       "      <td>0.0</td>\n",
       "      <td>219750.0</td>\n",
       "      <td>25919.0</td>\n",
       "      <td>27600.0</td>\n",
       "      <td>20000.0</td>\n",
       "    </tr>\n",
       "    <tr>\n",
       "      <th>...</th>\n",
       "      <td>...</td>\n",
       "      <td>...</td>\n",
       "      <td>...</td>\n",
       "      <td>...</td>\n",
       "      <td>...</td>\n",
       "      <td>...</td>\n",
       "      <td>...</td>\n",
       "      <td>...</td>\n",
       "      <td>...</td>\n",
       "      <td>...</td>\n",
       "      <td>...</td>\n",
       "      <td>...</td>\n",
       "      <td>...</td>\n",
       "      <td>...</td>\n",
       "      <td>...</td>\n",
       "      <td>...</td>\n",
       "      <td>...</td>\n",
       "      <td>...</td>\n",
       "      <td>...</td>\n",
       "      <td>...</td>\n",
       "      <td>...</td>\n",
       "    </tr>\n",
       "    <tr>\n",
       "      <th>68812</th>\n",
       "      <td>10000.0</td>\n",
       "      <td>0.1502</td>\n",
       "      <td>346.76</td>\n",
       "      <td>RENT</td>\n",
       "      <td>26000.0</td>\n",
       "      <td>Source Verified</td>\n",
       "      <td>Jan-2019</td>\n",
       "      <td>9.60</td>\n",
       "      <td>0.0</td>\n",
       "      <td>0.0</td>\n",
       "      <td>...</td>\n",
       "      <td>0.0</td>\n",
       "      <td>3.0</td>\n",
       "      <td>80.0</td>\n",
       "      <td>0.0</td>\n",
       "      <td>0.0</td>\n",
       "      <td>0.0</td>\n",
       "      <td>20625.0</td>\n",
       "      <td>6798.0</td>\n",
       "      <td>11300.0</td>\n",
       "      <td>5425.0</td>\n",
       "    </tr>\n",
       "    <tr>\n",
       "      <th>68813</th>\n",
       "      <td>12000.0</td>\n",
       "      <td>0.2727</td>\n",
       "      <td>368.37</td>\n",
       "      <td>RENT</td>\n",
       "      <td>63000.0</td>\n",
       "      <td>Not Verified</td>\n",
       "      <td>Jan-2019</td>\n",
       "      <td>29.07</td>\n",
       "      <td>0.0</td>\n",
       "      <td>0.0</td>\n",
       "      <td>...</td>\n",
       "      <td>0.0</td>\n",
       "      <td>5.0</td>\n",
       "      <td>96.2</td>\n",
       "      <td>0.0</td>\n",
       "      <td>0.0</td>\n",
       "      <td>0.0</td>\n",
       "      <td>87939.0</td>\n",
       "      <td>60350.0</td>\n",
       "      <td>13500.0</td>\n",
       "      <td>62939.0</td>\n",
       "    </tr>\n",
       "    <tr>\n",
       "      <th>68814</th>\n",
       "      <td>5000.0</td>\n",
       "      <td>0.1992</td>\n",
       "      <td>185.62</td>\n",
       "      <td>MORTGAGE</td>\n",
       "      <td>52000.0</td>\n",
       "      <td>Source Verified</td>\n",
       "      <td>Jan-2019</td>\n",
       "      <td>14.86</td>\n",
       "      <td>0.0</td>\n",
       "      <td>0.0</td>\n",
       "      <td>...</td>\n",
       "      <td>0.0</td>\n",
       "      <td>3.0</td>\n",
       "      <td>100.0</td>\n",
       "      <td>0.0</td>\n",
       "      <td>1.0</td>\n",
       "      <td>0.0</td>\n",
       "      <td>30592.0</td>\n",
       "      <td>18611.0</td>\n",
       "      <td>3600.0</td>\n",
       "      <td>18492.0</td>\n",
       "    </tr>\n",
       "    <tr>\n",
       "      <th>68815</th>\n",
       "      <td>40000.0</td>\n",
       "      <td>0.0646</td>\n",
       "      <td>1225.24</td>\n",
       "      <td>MORTGAGE</td>\n",
       "      <td>520000.0</td>\n",
       "      <td>Verified</td>\n",
       "      <td>Jan-2019</td>\n",
       "      <td>9.96</td>\n",
       "      <td>0.0</td>\n",
       "      <td>1.0</td>\n",
       "      <td>...</td>\n",
       "      <td>0.0</td>\n",
       "      <td>3.0</td>\n",
       "      <td>98.2</td>\n",
       "      <td>12.5</td>\n",
       "      <td>0.0</td>\n",
       "      <td>0.0</td>\n",
       "      <td>1033574.0</td>\n",
       "      <td>95958.0</td>\n",
       "      <td>100800.0</td>\n",
       "      <td>78634.0</td>\n",
       "    </tr>\n",
       "    <tr>\n",
       "      <th>68816</th>\n",
       "      <td>16000.0</td>\n",
       "      <td>0.1131</td>\n",
       "      <td>350.36</td>\n",
       "      <td>MORTGAGE</td>\n",
       "      <td>72000.0</td>\n",
       "      <td>Verified</td>\n",
       "      <td>Jan-2019</td>\n",
       "      <td>7.02</td>\n",
       "      <td>2.0</td>\n",
       "      <td>0.0</td>\n",
       "      <td>...</td>\n",
       "      <td>2.0</td>\n",
       "      <td>0.0</td>\n",
       "      <td>94.3</td>\n",
       "      <td>0.0</td>\n",
       "      <td>1.0</td>\n",
       "      <td>0.0</td>\n",
       "      <td>251486.0</td>\n",
       "      <td>74835.0</td>\n",
       "      <td>23000.0</td>\n",
       "      <td>63090.0</td>\n",
       "    </tr>\n",
       "  </tbody>\n",
       "</table>\n",
       "<p>68817 rows × 82 columns</p>\n",
       "</div>"
      ],
      "text/plain": [
       "       loan_amnt  int_rate  installment home_ownership  annual_inc  \\\n",
       "0        10500.0    0.1719       375.35           RENT     66000.0   \n",
       "1        25000.0    0.2000       929.09       MORTGAGE    105000.0   \n",
       "2        20000.0    0.2000       529.88       MORTGAGE     56000.0   \n",
       "3        10000.0    0.1640       353.55           RENT     92000.0   \n",
       "4        22000.0    0.1474       520.39       MORTGAGE     52000.0   \n",
       "...          ...       ...          ...            ...         ...   \n",
       "68812    10000.0    0.1502       346.76           RENT     26000.0   \n",
       "68813    12000.0    0.2727       368.37           RENT     63000.0   \n",
       "68814     5000.0    0.1992       185.62       MORTGAGE     52000.0   \n",
       "68815    40000.0    0.0646      1225.24       MORTGAGE    520000.0   \n",
       "68816    16000.0    0.1131       350.36       MORTGAGE     72000.0   \n",
       "\n",
       "      verification_status   issue_d    dti  delinq_2yrs  inq_last_6mths  ...  \\\n",
       "0         Source Verified  Mar-2019  27.24          0.0             0.0  ...   \n",
       "1                Verified  Mar-2019  20.23          0.0             0.0  ...   \n",
       "2                Verified  Mar-2019  24.26          0.0             0.0  ...   \n",
       "3                Verified  Mar-2019  31.44          0.0             1.0  ...   \n",
       "4            Not Verified  Mar-2019  18.76          0.0             1.0  ...   \n",
       "...                   ...       ...    ...          ...             ...  ...   \n",
       "68812     Source Verified  Jan-2019   9.60          0.0             0.0  ...   \n",
       "68813        Not Verified  Jan-2019  29.07          0.0             0.0  ...   \n",
       "68814     Source Verified  Jan-2019  14.86          0.0             0.0  ...   \n",
       "68815            Verified  Jan-2019   9.96          0.0             1.0  ...   \n",
       "68816            Verified  Jan-2019   7.02          2.0             0.0  ...   \n",
       "\n",
       "       num_tl_90g_dpd_24m  num_tl_op_past_12m  pct_tl_nvr_dlq  \\\n",
       "0                     0.0                 3.0            85.7   \n",
       "1                     0.0                 6.0            91.2   \n",
       "2                     0.0                 4.0            66.7   \n",
       "3                     0.0                 1.0           100.0   \n",
       "4                     0.0                 1.0           100.0   \n",
       "...                   ...                 ...             ...   \n",
       "68812                 0.0                 3.0            80.0   \n",
       "68813                 0.0                 5.0            96.2   \n",
       "68814                 0.0                 3.0           100.0   \n",
       "68815                 0.0                 3.0            98.2   \n",
       "68816                 2.0                 0.0            94.3   \n",
       "\n",
       "       percent_bc_gt_75 pub_rec_bankruptcies  tax_liens  tot_hi_cred_lim  \\\n",
       "0                 100.0                  0.0        0.0          65687.0   \n",
       "1                  50.0                  1.0        0.0         271427.0   \n",
       "2                  50.0                  0.0        0.0          60644.0   \n",
       "3                  50.0                  1.0        0.0          99506.0   \n",
       "4                   0.0                  0.0        0.0         219750.0   \n",
       "...                 ...                  ...        ...              ...   \n",
       "68812               0.0                  0.0        0.0          20625.0   \n",
       "68813               0.0                  0.0        0.0          87939.0   \n",
       "68814               0.0                  1.0        0.0          30592.0   \n",
       "68815              12.5                  0.0        0.0        1033574.0   \n",
       "68816               0.0                  1.0        0.0         251486.0   \n",
       "\n",
       "       total_bal_ex_mort  total_bc_limit  total_il_high_credit_limit  \n",
       "0                38199.0          2000.0                     61987.0  \n",
       "1                60641.0         41200.0                     49197.0  \n",
       "2                45684.0          7500.0                     43144.0  \n",
       "3                68784.0         19700.0                     76506.0  \n",
       "4                25919.0         27600.0                     20000.0  \n",
       "...                  ...             ...                         ...  \n",
       "68812             6798.0         11300.0                      5425.0  \n",
       "68813            60350.0         13500.0                     62939.0  \n",
       "68814            18611.0          3600.0                     18492.0  \n",
       "68815            95958.0        100800.0                     78634.0  \n",
       "68816            74835.0         23000.0                     63090.0  \n",
       "\n",
       "[68817 rows x 82 columns]"
      ]
     },
     "execution_count": 17,
     "metadata": {},
     "output_type": "execute_result"
    }
   ],
   "source": [
    "# Create our features\n",
    "X = loans_df.drop(columns='loan_status')\n",
    "X"
   ]
  },
  {
   "cell_type": "code",
   "execution_count": 18,
   "metadata": {},
   "outputs": [
    {
     "data": {
      "text/plain": [
       "low_risk     68470\n",
       "high_risk      347\n",
       "Name: loan_status, dtype: int64"
      ]
     },
     "execution_count": 18,
     "metadata": {},
     "output_type": "execute_result"
    }
   ],
   "source": [
    "# Create our target\n",
    "y = loans_df['loan_status']\n",
    "y.value_counts()"
   ]
  },
  {
   "cell_type": "code",
   "execution_count": 19,
   "metadata": {},
   "outputs": [
    {
     "name": "stdout",
     "output_type": "stream",
     "text": [
      "0.005067912954578648\n"
     ]
    }
   ],
   "source": [
    "# this is our imbalanced problem\n",
    "print(347/68470)"
   ]
  },
  {
   "cell_type": "code",
   "execution_count": 20,
   "metadata": {},
   "outputs": [
    {
     "data": {
      "text/html": [
       "<div>\n",
       "<style scoped>\n",
       "    .dataframe tbody tr th:only-of-type {\n",
       "        vertical-align: middle;\n",
       "    }\n",
       "\n",
       "    .dataframe tbody tr th {\n",
       "        vertical-align: top;\n",
       "    }\n",
       "\n",
       "    .dataframe thead th {\n",
       "        text-align: right;\n",
       "    }\n",
       "</style>\n",
       "<table border=\"1\" class=\"dataframe\">\n",
       "  <thead>\n",
       "    <tr style=\"text-align: right;\">\n",
       "      <th></th>\n",
       "      <th>loan_amnt</th>\n",
       "      <th>int_rate</th>\n",
       "      <th>installment</th>\n",
       "      <th>annual_inc</th>\n",
       "      <th>dti</th>\n",
       "      <th>delinq_2yrs</th>\n",
       "      <th>inq_last_6mths</th>\n",
       "      <th>open_acc</th>\n",
       "      <th>pub_rec</th>\n",
       "      <th>revol_bal</th>\n",
       "      <th>...</th>\n",
       "      <th>num_tl_90g_dpd_24m</th>\n",
       "      <th>num_tl_op_past_12m</th>\n",
       "      <th>pct_tl_nvr_dlq</th>\n",
       "      <th>percent_bc_gt_75</th>\n",
       "      <th>pub_rec_bankruptcies</th>\n",
       "      <th>tax_liens</th>\n",
       "      <th>tot_hi_cred_lim</th>\n",
       "      <th>total_bal_ex_mort</th>\n",
       "      <th>total_bc_limit</th>\n",
       "      <th>total_il_high_credit_limit</th>\n",
       "    </tr>\n",
       "  </thead>\n",
       "  <tbody>\n",
       "    <tr>\n",
       "      <th>count</th>\n",
       "      <td>68817.000000</td>\n",
       "      <td>68817.000000</td>\n",
       "      <td>68817.000000</td>\n",
       "      <td>6.881700e+04</td>\n",
       "      <td>68817.000000</td>\n",
       "      <td>68817.000000</td>\n",
       "      <td>68817.000000</td>\n",
       "      <td>68817.000000</td>\n",
       "      <td>68817.000000</td>\n",
       "      <td>68817.000000</td>\n",
       "      <td>...</td>\n",
       "      <td>68817.000000</td>\n",
       "      <td>68817.000000</td>\n",
       "      <td>68817.000000</td>\n",
       "      <td>68817.000000</td>\n",
       "      <td>68817.000000</td>\n",
       "      <td>68817.0</td>\n",
       "      <td>6.881700e+04</td>\n",
       "      <td>6.881700e+04</td>\n",
       "      <td>68817.000000</td>\n",
       "      <td>6.881700e+04</td>\n",
       "    </tr>\n",
       "    <tr>\n",
       "      <th>mean</th>\n",
       "      <td>16677.594562</td>\n",
       "      <td>0.127718</td>\n",
       "      <td>480.652863</td>\n",
       "      <td>8.821371e+04</td>\n",
       "      <td>21.778153</td>\n",
       "      <td>0.217766</td>\n",
       "      <td>0.497697</td>\n",
       "      <td>12.587340</td>\n",
       "      <td>0.126030</td>\n",
       "      <td>17604.142828</td>\n",
       "      <td>...</td>\n",
       "      <td>0.052138</td>\n",
       "      <td>2.219423</td>\n",
       "      <td>95.057627</td>\n",
       "      <td>30.626217</td>\n",
       "      <td>0.125972</td>\n",
       "      <td>0.0</td>\n",
       "      <td>2.100332e+05</td>\n",
       "      <td>6.133843e+04</td>\n",
       "      <td>29734.128558</td>\n",
       "      <td>5.572240e+04</td>\n",
       "    </tr>\n",
       "    <tr>\n",
       "      <th>std</th>\n",
       "      <td>10277.348590</td>\n",
       "      <td>0.048130</td>\n",
       "      <td>288.062432</td>\n",
       "      <td>1.155800e+05</td>\n",
       "      <td>20.199244</td>\n",
       "      <td>0.718367</td>\n",
       "      <td>0.758122</td>\n",
       "      <td>6.022869</td>\n",
       "      <td>0.336797</td>\n",
       "      <td>21835.880400</td>\n",
       "      <td>...</td>\n",
       "      <td>0.390633</td>\n",
       "      <td>1.897432</td>\n",
       "      <td>8.326426</td>\n",
       "      <td>33.631463</td>\n",
       "      <td>0.336732</td>\n",
       "      <td>0.0</td>\n",
       "      <td>1.928088e+05</td>\n",
       "      <td>5.738798e+04</td>\n",
       "      <td>26795.394232</td>\n",
       "      <td>5.095845e+04</td>\n",
       "    </tr>\n",
       "    <tr>\n",
       "      <th>min</th>\n",
       "      <td>1000.000000</td>\n",
       "      <td>0.060000</td>\n",
       "      <td>30.890000</td>\n",
       "      <td>4.000000e+01</td>\n",
       "      <td>0.000000</td>\n",
       "      <td>0.000000</td>\n",
       "      <td>0.000000</td>\n",
       "      <td>2.000000</td>\n",
       "      <td>0.000000</td>\n",
       "      <td>0.000000</td>\n",
       "      <td>...</td>\n",
       "      <td>0.000000</td>\n",
       "      <td>0.000000</td>\n",
       "      <td>20.000000</td>\n",
       "      <td>0.000000</td>\n",
       "      <td>0.000000</td>\n",
       "      <td>0.0</td>\n",
       "      <td>3.600000e+03</td>\n",
       "      <td>2.350000e+02</td>\n",
       "      <td>100.000000</td>\n",
       "      <td>1.270000e+02</td>\n",
       "    </tr>\n",
       "    <tr>\n",
       "      <th>25%</th>\n",
       "      <td>9000.000000</td>\n",
       "      <td>0.088100</td>\n",
       "      <td>265.730000</td>\n",
       "      <td>5.000000e+04</td>\n",
       "      <td>13.890000</td>\n",
       "      <td>0.000000</td>\n",
       "      <td>0.000000</td>\n",
       "      <td>8.000000</td>\n",
       "      <td>0.000000</td>\n",
       "      <td>6293.000000</td>\n",
       "      <td>...</td>\n",
       "      <td>0.000000</td>\n",
       "      <td>1.000000</td>\n",
       "      <td>93.000000</td>\n",
       "      <td>0.000000</td>\n",
       "      <td>0.000000</td>\n",
       "      <td>0.0</td>\n",
       "      <td>6.697700e+04</td>\n",
       "      <td>2.650300e+04</td>\n",
       "      <td>11600.000000</td>\n",
       "      <td>2.288000e+04</td>\n",
       "    </tr>\n",
       "    <tr>\n",
       "      <th>50%</th>\n",
       "      <td>15000.000000</td>\n",
       "      <td>0.118000</td>\n",
       "      <td>404.560000</td>\n",
       "      <td>7.300000e+04</td>\n",
       "      <td>19.760000</td>\n",
       "      <td>0.000000</td>\n",
       "      <td>0.000000</td>\n",
       "      <td>11.000000</td>\n",
       "      <td>0.000000</td>\n",
       "      <td>12068.000000</td>\n",
       "      <td>...</td>\n",
       "      <td>0.000000</td>\n",
       "      <td>2.000000</td>\n",
       "      <td>100.000000</td>\n",
       "      <td>20.000000</td>\n",
       "      <td>0.000000</td>\n",
       "      <td>0.0</td>\n",
       "      <td>1.467100e+05</td>\n",
       "      <td>4.535700e+04</td>\n",
       "      <td>22100.000000</td>\n",
       "      <td>4.200000e+04</td>\n",
       "    </tr>\n",
       "    <tr>\n",
       "      <th>75%</th>\n",
       "      <td>24000.000000</td>\n",
       "      <td>0.155700</td>\n",
       "      <td>648.100000</td>\n",
       "      <td>1.040000e+05</td>\n",
       "      <td>26.660000</td>\n",
       "      <td>0.000000</td>\n",
       "      <td>1.000000</td>\n",
       "      <td>16.000000</td>\n",
       "      <td>0.000000</td>\n",
       "      <td>21735.000000</td>\n",
       "      <td>...</td>\n",
       "      <td>0.000000</td>\n",
       "      <td>3.000000</td>\n",
       "      <td>100.000000</td>\n",
       "      <td>50.000000</td>\n",
       "      <td>0.000000</td>\n",
       "      <td>0.0</td>\n",
       "      <td>3.036400e+05</td>\n",
       "      <td>7.657000e+04</td>\n",
       "      <td>39300.000000</td>\n",
       "      <td>7.249900e+04</td>\n",
       "    </tr>\n",
       "    <tr>\n",
       "      <th>max</th>\n",
       "      <td>40000.000000</td>\n",
       "      <td>0.308400</td>\n",
       "      <td>1676.230000</td>\n",
       "      <td>8.797500e+06</td>\n",
       "      <td>999.000000</td>\n",
       "      <td>18.000000</td>\n",
       "      <td>5.000000</td>\n",
       "      <td>72.000000</td>\n",
       "      <td>4.000000</td>\n",
       "      <td>587191.000000</td>\n",
       "      <td>...</td>\n",
       "      <td>18.000000</td>\n",
       "      <td>19.000000</td>\n",
       "      <td>100.000000</td>\n",
       "      <td>100.000000</td>\n",
       "      <td>4.000000</td>\n",
       "      <td>0.0</td>\n",
       "      <td>3.292782e+06</td>\n",
       "      <td>1.295455e+06</td>\n",
       "      <td>509400.000000</td>\n",
       "      <td>1.426964e+06</td>\n",
       "    </tr>\n",
       "  </tbody>\n",
       "</table>\n",
       "<p>8 rows × 76 columns</p>\n",
       "</div>"
      ],
      "text/plain": [
       "          loan_amnt      int_rate   installment    annual_inc           dti  \\\n",
       "count  68817.000000  68817.000000  68817.000000  6.881700e+04  68817.000000   \n",
       "mean   16677.594562      0.127718    480.652863  8.821371e+04     21.778153   \n",
       "std    10277.348590      0.048130    288.062432  1.155800e+05     20.199244   \n",
       "min     1000.000000      0.060000     30.890000  4.000000e+01      0.000000   \n",
       "25%     9000.000000      0.088100    265.730000  5.000000e+04     13.890000   \n",
       "50%    15000.000000      0.118000    404.560000  7.300000e+04     19.760000   \n",
       "75%    24000.000000      0.155700    648.100000  1.040000e+05     26.660000   \n",
       "max    40000.000000      0.308400   1676.230000  8.797500e+06    999.000000   \n",
       "\n",
       "        delinq_2yrs  inq_last_6mths      open_acc       pub_rec  \\\n",
       "count  68817.000000    68817.000000  68817.000000  68817.000000   \n",
       "mean       0.217766        0.497697     12.587340      0.126030   \n",
       "std        0.718367        0.758122      6.022869      0.336797   \n",
       "min        0.000000        0.000000      2.000000      0.000000   \n",
       "25%        0.000000        0.000000      8.000000      0.000000   \n",
       "50%        0.000000        0.000000     11.000000      0.000000   \n",
       "75%        0.000000        1.000000     16.000000      0.000000   \n",
       "max       18.000000        5.000000     72.000000      4.000000   \n",
       "\n",
       "           revol_bal  ...  num_tl_90g_dpd_24m  num_tl_op_past_12m  \\\n",
       "count   68817.000000  ...        68817.000000        68817.000000   \n",
       "mean    17604.142828  ...            0.052138            2.219423   \n",
       "std     21835.880400  ...            0.390633            1.897432   \n",
       "min         0.000000  ...            0.000000            0.000000   \n",
       "25%      6293.000000  ...            0.000000            1.000000   \n",
       "50%     12068.000000  ...            0.000000            2.000000   \n",
       "75%     21735.000000  ...            0.000000            3.000000   \n",
       "max    587191.000000  ...           18.000000           19.000000   \n",
       "\n",
       "       pct_tl_nvr_dlq  percent_bc_gt_75  pub_rec_bankruptcies  tax_liens  \\\n",
       "count    68817.000000      68817.000000          68817.000000    68817.0   \n",
       "mean        95.057627         30.626217              0.125972        0.0   \n",
       "std          8.326426         33.631463              0.336732        0.0   \n",
       "min         20.000000          0.000000              0.000000        0.0   \n",
       "25%         93.000000          0.000000              0.000000        0.0   \n",
       "50%        100.000000         20.000000              0.000000        0.0   \n",
       "75%        100.000000         50.000000              0.000000        0.0   \n",
       "max        100.000000        100.000000              4.000000        0.0   \n",
       "\n",
       "       tot_hi_cred_lim  total_bal_ex_mort  total_bc_limit  \\\n",
       "count     6.881700e+04       6.881700e+04    68817.000000   \n",
       "mean      2.100332e+05       6.133843e+04    29734.128558   \n",
       "std       1.928088e+05       5.738798e+04    26795.394232   \n",
       "min       3.600000e+03       2.350000e+02      100.000000   \n",
       "25%       6.697700e+04       2.650300e+04    11600.000000   \n",
       "50%       1.467100e+05       4.535700e+04    22100.000000   \n",
       "75%       3.036400e+05       7.657000e+04    39300.000000   \n",
       "max       3.292782e+06       1.295455e+06   509400.000000   \n",
       "\n",
       "       total_il_high_credit_limit  \n",
       "count                6.881700e+04  \n",
       "mean                 5.572240e+04  \n",
       "std                  5.095845e+04  \n",
       "min                  1.270000e+02  \n",
       "25%                  2.288000e+04  \n",
       "50%                  4.200000e+04  \n",
       "75%                  7.249900e+04  \n",
       "max                  1.426964e+06  \n",
       "\n",
       "[8 rows x 76 columns]"
      ]
     },
     "execution_count": 20,
     "metadata": {},
     "output_type": "execute_result"
    }
   ],
   "source": [
    "X.describe()"
   ]
  },
  {
   "cell_type": "code",
   "execution_count": 21,
   "metadata": {},
   "outputs": [
    {
     "data": {
      "text/plain": [
       "(68817, 82)"
      ]
     },
     "execution_count": 21,
     "metadata": {},
     "output_type": "execute_result"
    }
   ],
   "source": [
    "X.shape"
   ]
  },
  {
   "cell_type": "code",
   "execution_count": 22,
   "metadata": {},
   "outputs": [
    {
     "data": {
      "text/plain": [
       "(68817, 92)"
      ]
     },
     "execution_count": 22,
     "metadata": {},
     "output_type": "execute_result"
    }
   ],
   "source": [
    "# use get_dummies to transform object to intger\n",
    "X_encoded = pd.get_dummies(X)\n",
    "X_encoded.shape"
   ]
  },
  {
   "cell_type": "code",
   "execution_count": 23,
   "metadata": {},
   "outputs": [
    {
     "data": {
      "text/html": [
       "<div>\n",
       "<style scoped>\n",
       "    .dataframe tbody tr th:only-of-type {\n",
       "        vertical-align: middle;\n",
       "    }\n",
       "\n",
       "    .dataframe tbody tr th {\n",
       "        vertical-align: top;\n",
       "    }\n",
       "\n",
       "    .dataframe thead th {\n",
       "        text-align: right;\n",
       "    }\n",
       "</style>\n",
       "<table border=\"1\" class=\"dataframe\">\n",
       "  <thead>\n",
       "    <tr style=\"text-align: right;\">\n",
       "      <th></th>\n",
       "      <th>loan_amnt</th>\n",
       "      <th>int_rate</th>\n",
       "      <th>installment</th>\n",
       "      <th>annual_inc</th>\n",
       "      <th>dti</th>\n",
       "      <th>delinq_2yrs</th>\n",
       "      <th>inq_last_6mths</th>\n",
       "      <th>open_acc</th>\n",
       "      <th>pub_rec</th>\n",
       "      <th>revol_bal</th>\n",
       "      <th>...</th>\n",
       "      <th>verification_status_Verified</th>\n",
       "      <th>issue_d_Feb-2019</th>\n",
       "      <th>issue_d_Jan-2019</th>\n",
       "      <th>issue_d_Mar-2019</th>\n",
       "      <th>initial_list_status_f</th>\n",
       "      <th>initial_list_status_w</th>\n",
       "      <th>next_pymnt_d_Apr-2019</th>\n",
       "      <th>next_pymnt_d_May-2019</th>\n",
       "      <th>application_type_Individual</th>\n",
       "      <th>application_type_Joint App</th>\n",
       "    </tr>\n",
       "  </thead>\n",
       "  <tbody>\n",
       "    <tr>\n",
       "      <th>count</th>\n",
       "      <td>68817.000000</td>\n",
       "      <td>68817.000000</td>\n",
       "      <td>68817.000000</td>\n",
       "      <td>6.881700e+04</td>\n",
       "      <td>68817.000000</td>\n",
       "      <td>68817.000000</td>\n",
       "      <td>68817.000000</td>\n",
       "      <td>68817.000000</td>\n",
       "      <td>68817.000000</td>\n",
       "      <td>68817.000000</td>\n",
       "      <td>...</td>\n",
       "      <td>68817.000000</td>\n",
       "      <td>68817.000000</td>\n",
       "      <td>68817.000000</td>\n",
       "      <td>68817.000000</td>\n",
       "      <td>68817.000000</td>\n",
       "      <td>68817.000000</td>\n",
       "      <td>68817.000000</td>\n",
       "      <td>68817.000000</td>\n",
       "      <td>68817.000000</td>\n",
       "      <td>68817.000000</td>\n",
       "    </tr>\n",
       "    <tr>\n",
       "      <th>mean</th>\n",
       "      <td>16677.594562</td>\n",
       "      <td>0.127718</td>\n",
       "      <td>480.652863</td>\n",
       "      <td>8.821371e+04</td>\n",
       "      <td>21.778153</td>\n",
       "      <td>0.217766</td>\n",
       "      <td>0.497697</td>\n",
       "      <td>12.587340</td>\n",
       "      <td>0.126030</td>\n",
       "      <td>17604.142828</td>\n",
       "      <td>...</td>\n",
       "      <td>0.148001</td>\n",
       "      <td>0.371696</td>\n",
       "      <td>0.451066</td>\n",
       "      <td>0.177238</td>\n",
       "      <td>0.123879</td>\n",
       "      <td>0.876121</td>\n",
       "      <td>0.383161</td>\n",
       "      <td>0.616839</td>\n",
       "      <td>0.860340</td>\n",
       "      <td>0.139660</td>\n",
       "    </tr>\n",
       "    <tr>\n",
       "      <th>std</th>\n",
       "      <td>10277.348590</td>\n",
       "      <td>0.048130</td>\n",
       "      <td>288.062432</td>\n",
       "      <td>1.155800e+05</td>\n",
       "      <td>20.199244</td>\n",
       "      <td>0.718367</td>\n",
       "      <td>0.758122</td>\n",
       "      <td>6.022869</td>\n",
       "      <td>0.336797</td>\n",
       "      <td>21835.880400</td>\n",
       "      <td>...</td>\n",
       "      <td>0.355104</td>\n",
       "      <td>0.483261</td>\n",
       "      <td>0.497603</td>\n",
       "      <td>0.381873</td>\n",
       "      <td>0.329446</td>\n",
       "      <td>0.329446</td>\n",
       "      <td>0.486161</td>\n",
       "      <td>0.486161</td>\n",
       "      <td>0.346637</td>\n",
       "      <td>0.346637</td>\n",
       "    </tr>\n",
       "    <tr>\n",
       "      <th>min</th>\n",
       "      <td>1000.000000</td>\n",
       "      <td>0.060000</td>\n",
       "      <td>30.890000</td>\n",
       "      <td>4.000000e+01</td>\n",
       "      <td>0.000000</td>\n",
       "      <td>0.000000</td>\n",
       "      <td>0.000000</td>\n",
       "      <td>2.000000</td>\n",
       "      <td>0.000000</td>\n",
       "      <td>0.000000</td>\n",
       "      <td>...</td>\n",
       "      <td>0.000000</td>\n",
       "      <td>0.000000</td>\n",
       "      <td>0.000000</td>\n",
       "      <td>0.000000</td>\n",
       "      <td>0.000000</td>\n",
       "      <td>0.000000</td>\n",
       "      <td>0.000000</td>\n",
       "      <td>0.000000</td>\n",
       "      <td>0.000000</td>\n",
       "      <td>0.000000</td>\n",
       "    </tr>\n",
       "    <tr>\n",
       "      <th>25%</th>\n",
       "      <td>9000.000000</td>\n",
       "      <td>0.088100</td>\n",
       "      <td>265.730000</td>\n",
       "      <td>5.000000e+04</td>\n",
       "      <td>13.890000</td>\n",
       "      <td>0.000000</td>\n",
       "      <td>0.000000</td>\n",
       "      <td>8.000000</td>\n",
       "      <td>0.000000</td>\n",
       "      <td>6293.000000</td>\n",
       "      <td>...</td>\n",
       "      <td>0.000000</td>\n",
       "      <td>0.000000</td>\n",
       "      <td>0.000000</td>\n",
       "      <td>0.000000</td>\n",
       "      <td>0.000000</td>\n",
       "      <td>1.000000</td>\n",
       "      <td>0.000000</td>\n",
       "      <td>0.000000</td>\n",
       "      <td>1.000000</td>\n",
       "      <td>0.000000</td>\n",
       "    </tr>\n",
       "    <tr>\n",
       "      <th>50%</th>\n",
       "      <td>15000.000000</td>\n",
       "      <td>0.118000</td>\n",
       "      <td>404.560000</td>\n",
       "      <td>7.300000e+04</td>\n",
       "      <td>19.760000</td>\n",
       "      <td>0.000000</td>\n",
       "      <td>0.000000</td>\n",
       "      <td>11.000000</td>\n",
       "      <td>0.000000</td>\n",
       "      <td>12068.000000</td>\n",
       "      <td>...</td>\n",
       "      <td>0.000000</td>\n",
       "      <td>0.000000</td>\n",
       "      <td>0.000000</td>\n",
       "      <td>0.000000</td>\n",
       "      <td>0.000000</td>\n",
       "      <td>1.000000</td>\n",
       "      <td>0.000000</td>\n",
       "      <td>1.000000</td>\n",
       "      <td>1.000000</td>\n",
       "      <td>0.000000</td>\n",
       "    </tr>\n",
       "    <tr>\n",
       "      <th>75%</th>\n",
       "      <td>24000.000000</td>\n",
       "      <td>0.155700</td>\n",
       "      <td>648.100000</td>\n",
       "      <td>1.040000e+05</td>\n",
       "      <td>26.660000</td>\n",
       "      <td>0.000000</td>\n",
       "      <td>1.000000</td>\n",
       "      <td>16.000000</td>\n",
       "      <td>0.000000</td>\n",
       "      <td>21735.000000</td>\n",
       "      <td>...</td>\n",
       "      <td>0.000000</td>\n",
       "      <td>1.000000</td>\n",
       "      <td>1.000000</td>\n",
       "      <td>0.000000</td>\n",
       "      <td>0.000000</td>\n",
       "      <td>1.000000</td>\n",
       "      <td>1.000000</td>\n",
       "      <td>1.000000</td>\n",
       "      <td>1.000000</td>\n",
       "      <td>0.000000</td>\n",
       "    </tr>\n",
       "    <tr>\n",
       "      <th>max</th>\n",
       "      <td>40000.000000</td>\n",
       "      <td>0.308400</td>\n",
       "      <td>1676.230000</td>\n",
       "      <td>8.797500e+06</td>\n",
       "      <td>999.000000</td>\n",
       "      <td>18.000000</td>\n",
       "      <td>5.000000</td>\n",
       "      <td>72.000000</td>\n",
       "      <td>4.000000</td>\n",
       "      <td>587191.000000</td>\n",
       "      <td>...</td>\n",
       "      <td>1.000000</td>\n",
       "      <td>1.000000</td>\n",
       "      <td>1.000000</td>\n",
       "      <td>1.000000</td>\n",
       "      <td>1.000000</td>\n",
       "      <td>1.000000</td>\n",
       "      <td>1.000000</td>\n",
       "      <td>1.000000</td>\n",
       "      <td>1.000000</td>\n",
       "      <td>1.000000</td>\n",
       "    </tr>\n",
       "  </tbody>\n",
       "</table>\n",
       "<p>8 rows × 92 columns</p>\n",
       "</div>"
      ],
      "text/plain": [
       "          loan_amnt      int_rate   installment    annual_inc           dti  \\\n",
       "count  68817.000000  68817.000000  68817.000000  6.881700e+04  68817.000000   \n",
       "mean   16677.594562      0.127718    480.652863  8.821371e+04     21.778153   \n",
       "std    10277.348590      0.048130    288.062432  1.155800e+05     20.199244   \n",
       "min     1000.000000      0.060000     30.890000  4.000000e+01      0.000000   \n",
       "25%     9000.000000      0.088100    265.730000  5.000000e+04     13.890000   \n",
       "50%    15000.000000      0.118000    404.560000  7.300000e+04     19.760000   \n",
       "75%    24000.000000      0.155700    648.100000  1.040000e+05     26.660000   \n",
       "max    40000.000000      0.308400   1676.230000  8.797500e+06    999.000000   \n",
       "\n",
       "        delinq_2yrs  inq_last_6mths      open_acc       pub_rec  \\\n",
       "count  68817.000000    68817.000000  68817.000000  68817.000000   \n",
       "mean       0.217766        0.497697     12.587340      0.126030   \n",
       "std        0.718367        0.758122      6.022869      0.336797   \n",
       "min        0.000000        0.000000      2.000000      0.000000   \n",
       "25%        0.000000        0.000000      8.000000      0.000000   \n",
       "50%        0.000000        0.000000     11.000000      0.000000   \n",
       "75%        0.000000        1.000000     16.000000      0.000000   \n",
       "max       18.000000        5.000000     72.000000      4.000000   \n",
       "\n",
       "           revol_bal  ...  verification_status_Verified  issue_d_Feb-2019  \\\n",
       "count   68817.000000  ...                  68817.000000      68817.000000   \n",
       "mean    17604.142828  ...                      0.148001          0.371696   \n",
       "std     21835.880400  ...                      0.355104          0.483261   \n",
       "min         0.000000  ...                      0.000000          0.000000   \n",
       "25%      6293.000000  ...                      0.000000          0.000000   \n",
       "50%     12068.000000  ...                      0.000000          0.000000   \n",
       "75%     21735.000000  ...                      0.000000          1.000000   \n",
       "max    587191.000000  ...                      1.000000          1.000000   \n",
       "\n",
       "       issue_d_Jan-2019  issue_d_Mar-2019  initial_list_status_f  \\\n",
       "count      68817.000000      68817.000000           68817.000000   \n",
       "mean           0.451066          0.177238               0.123879   \n",
       "std            0.497603          0.381873               0.329446   \n",
       "min            0.000000          0.000000               0.000000   \n",
       "25%            0.000000          0.000000               0.000000   \n",
       "50%            0.000000          0.000000               0.000000   \n",
       "75%            1.000000          0.000000               0.000000   \n",
       "max            1.000000          1.000000               1.000000   \n",
       "\n",
       "       initial_list_status_w  next_pymnt_d_Apr-2019  next_pymnt_d_May-2019  \\\n",
       "count           68817.000000           68817.000000           68817.000000   \n",
       "mean                0.876121               0.383161               0.616839   \n",
       "std                 0.329446               0.486161               0.486161   \n",
       "min                 0.000000               0.000000               0.000000   \n",
       "25%                 1.000000               0.000000               0.000000   \n",
       "50%                 1.000000               0.000000               1.000000   \n",
       "75%                 1.000000               1.000000               1.000000   \n",
       "max                 1.000000               1.000000               1.000000   \n",
       "\n",
       "       application_type_Individual  application_type_Joint App  \n",
       "count                 68817.000000                68817.000000  \n",
       "mean                      0.860340                    0.139660  \n",
       "std                       0.346637                    0.346637  \n",
       "min                       0.000000                    0.000000  \n",
       "25%                       1.000000                    0.000000  \n",
       "50%                       1.000000                    0.000000  \n",
       "75%                       1.000000                    0.000000  \n",
       "max                       1.000000                    1.000000  \n",
       "\n",
       "[8 rows x 92 columns]"
      ]
     },
     "execution_count": 23,
     "metadata": {},
     "output_type": "execute_result"
    }
   ],
   "source": [
    "# all our columns in our features matrix (X) are numeric\n",
    "X_encoded.describe()"
   ]
  },
  {
   "cell_type": "code",
   "execution_count": 24,
   "metadata": {},
   "outputs": [],
   "source": [
    "# Check the balance of our target values\n",
    "#y['loan_status'].value_counts()"
   ]
  },
  {
   "cell_type": "markdown",
   "metadata": {},
   "source": [
    "### Use module 17.6.4 to standard scale X_encoded feature matrix\n"
   ]
  },
  {
   "cell_type": "code",
   "execution_count": 25,
   "metadata": {},
   "outputs": [],
   "source": [
    "from sklearn.preprocessing import StandardScaler\n",
    "data_scaler = StandardScaler()"
   ]
  },
  {
   "cell_type": "code",
   "execution_count": 26,
   "metadata": {},
   "outputs": [
    {
     "data": {
      "text/plain": [
       "array([[-0.60109272,  0.91798436, -0.36555835, -0.1921948 ,  0.27040056,\n",
       "        -0.30314253, -0.65649151, -0.76165917, -0.37420432, -0.73252183,\n",
       "        -0.8658573 , -0.58124513, -0.58081958, -0.50046544, -0.50029335,\n",
       "        -0.3228639 , -0.89960419, -0.03227363,  0.        ,  0.        ,\n",
       "        -0.17383528, -0.12011247,  0.        ,  0.        , -0.00589695,\n",
       "        -0.72692228,  1.67997825,  0.2392533 ,  1.19137226,  1.35299632,\n",
       "        -0.80895603, -0.13418715, -0.45717571, -0.16310175, -0.24864022,\n",
       "        -0.83203994,  0.12422197, -1.04213361, -0.24758239, -0.59166015,\n",
       "         0.75578041,  0.37274923, -0.59052419, -0.80915288,  1.04494582,\n",
       "        -0.07820908, -0.00778953, -0.56994022, -0.7981628 , -0.64845959,\n",
       "        -0.66313947, -0.8249868 , -0.14674317, -1.10824038, -0.33490355,\n",
       "        -1.13862411, -1.05103022, -1.27998521, -1.40011594,  0.06599699,\n",
       "        -1.11347944, -1.31043257, -1.0519437 , -0.75930693,  0.        ,\n",
       "         0.        , -0.13347217,  0.41138923, -1.12385485,  2.06277933,\n",
       "        -0.37410344,  0.        , -0.74865495, -0.40321335, -1.03504094,\n",
       "         0.12293632, -0.0968118 , -1.054078  , -0.34569279,  1.34013488,\n",
       "        -0.95693996,  1.29377539, -0.41678604, -0.76914635, -0.90648342,\n",
       "         2.15455915, -0.37602554,  0.37602554, -0.78814271,  0.78814271,\n",
       "         0.40290386, -0.40290386]])"
      ]
     },
     "execution_count": 26,
     "metadata": {},
     "output_type": "execute_result"
    }
   ],
   "source": [
    "# fit and transform X_encoded \n",
    "X_encoded_scaled = data_scaler.fit_transform(X_encoded)\n",
    "X_encoded_scaled[:1]\n"
   ]
  },
  {
   "cell_type": "code",
   "execution_count": 27,
   "metadata": {},
   "outputs": [],
   "source": [
    "from sklearn.model_selection import train_test_split\n"
   ]
  },
  {
   "cell_type": "code",
   "execution_count": 28,
   "metadata": {},
   "outputs": [],
   "source": [
    "X_train, X_test, y_train, y_test = train_test_split(X_encoded_scaled,y, random_state =1)"
   ]
  },
  {
   "cell_type": "code",
   "execution_count": 29,
   "metadata": {},
   "outputs": [
    {
     "data": {
      "text/plain": [
       "low_risk     51366\n",
       "high_risk      246\n",
       "Name: loan_status, dtype: int64"
      ]
     },
     "execution_count": 29,
     "metadata": {},
     "output_type": "execute_result"
    }
   ],
   "source": [
    "y_train.value_counts()"
   ]
  },
  {
   "cell_type": "code",
   "execution_count": 30,
   "metadata": {},
   "outputs": [
    {
     "name": "stdout",
     "output_type": "stream",
     "text": [
      "0.004789160144842892\n"
     ]
    }
   ],
   "source": [
    "print(246/51366)"
   ]
  },
  {
   "cell_type": "code",
   "execution_count": 31,
   "metadata": {},
   "outputs": [],
   "source": [
    "# get baseline of performance \n",
    "# Use the LogisticRegression classifier to make predictions and evaluate the model’s performance.\n",
    "\n",
    "from sklearn.linear_model import LogisticRegression\n",
    "\n",
    "#Calculate the accuracy score of the model.\n",
    "#Generate a confusion matrix.\n",
    "#Print out the imbalanced classification report.\n",
    "# classification report.ing logistics regression\n",
    "# imbalanced classification report.ing logistics regression"
   ]
  },
  {
   "cell_type": "code",
   "execution_count": 32,
   "metadata": {},
   "outputs": [
    {
     "data": {
      "text/html": [
       "<style>#sk-container-id-1 {color: black;background-color: white;}#sk-container-id-1 pre{padding: 0;}#sk-container-id-1 div.sk-toggleable {background-color: white;}#sk-container-id-1 label.sk-toggleable__label {cursor: pointer;display: block;width: 100%;margin-bottom: 0;padding: 0.3em;box-sizing: border-box;text-align: center;}#sk-container-id-1 label.sk-toggleable__label-arrow:before {content: \"▸\";float: left;margin-right: 0.25em;color: #696969;}#sk-container-id-1 label.sk-toggleable__label-arrow:hover:before {color: black;}#sk-container-id-1 div.sk-estimator:hover label.sk-toggleable__label-arrow:before {color: black;}#sk-container-id-1 div.sk-toggleable__content {max-height: 0;max-width: 0;overflow: hidden;text-align: left;background-color: #f0f8ff;}#sk-container-id-1 div.sk-toggleable__content pre {margin: 0.2em;color: black;border-radius: 0.25em;background-color: #f0f8ff;}#sk-container-id-1 input.sk-toggleable__control:checked~div.sk-toggleable__content {max-height: 200px;max-width: 100%;overflow: auto;}#sk-container-id-1 input.sk-toggleable__control:checked~label.sk-toggleable__label-arrow:before {content: \"▾\";}#sk-container-id-1 div.sk-estimator input.sk-toggleable__control:checked~label.sk-toggleable__label {background-color: #d4ebff;}#sk-container-id-1 div.sk-label input.sk-toggleable__control:checked~label.sk-toggleable__label {background-color: #d4ebff;}#sk-container-id-1 input.sk-hidden--visually {border: 0;clip: rect(1px 1px 1px 1px);clip: rect(1px, 1px, 1px, 1px);height: 1px;margin: -1px;overflow: hidden;padding: 0;position: absolute;width: 1px;}#sk-container-id-1 div.sk-estimator {font-family: monospace;background-color: #f0f8ff;border: 1px dotted black;border-radius: 0.25em;box-sizing: border-box;margin-bottom: 0.5em;}#sk-container-id-1 div.sk-estimator:hover {background-color: #d4ebff;}#sk-container-id-1 div.sk-parallel-item::after {content: \"\";width: 100%;border-bottom: 1px solid gray;flex-grow: 1;}#sk-container-id-1 div.sk-label:hover label.sk-toggleable__label {background-color: #d4ebff;}#sk-container-id-1 div.sk-serial::before {content: \"\";position: absolute;border-left: 1px solid gray;box-sizing: border-box;top: 0;bottom: 0;left: 50%;z-index: 0;}#sk-container-id-1 div.sk-serial {display: flex;flex-direction: column;align-items: center;background-color: white;padding-right: 0.2em;padding-left: 0.2em;position: relative;}#sk-container-id-1 div.sk-item {position: relative;z-index: 1;}#sk-container-id-1 div.sk-parallel {display: flex;align-items: stretch;justify-content: center;background-color: white;position: relative;}#sk-container-id-1 div.sk-item::before, #sk-container-id-1 div.sk-parallel-item::before {content: \"\";position: absolute;border-left: 1px solid gray;box-sizing: border-box;top: 0;bottom: 0;left: 50%;z-index: -1;}#sk-container-id-1 div.sk-parallel-item {display: flex;flex-direction: column;z-index: 1;position: relative;background-color: white;}#sk-container-id-1 div.sk-parallel-item:first-child::after {align-self: flex-end;width: 50%;}#sk-container-id-1 div.sk-parallel-item:last-child::after {align-self: flex-start;width: 50%;}#sk-container-id-1 div.sk-parallel-item:only-child::after {width: 0;}#sk-container-id-1 div.sk-dashed-wrapped {border: 1px dashed gray;margin: 0 0.4em 0.5em 0.4em;box-sizing: border-box;padding-bottom: 0.4em;background-color: white;}#sk-container-id-1 div.sk-label label {font-family: monospace;font-weight: bold;display: inline-block;line-height: 1.2em;}#sk-container-id-1 div.sk-label-container {text-align: center;}#sk-container-id-1 div.sk-container {/* jupyter's `normalize.less` sets `[hidden] { display: none; }` but bootstrap.min.css set `[hidden] { display: none !important; }` so we also need the `!important` here to be able to override the default hidden behavior on the sphinx rendered scikit-learn.org. See: https://github.com/scikit-learn/scikit-learn/issues/21755 */display: inline-block !important;position: relative;}#sk-container-id-1 div.sk-text-repr-fallback {display: none;}</style><div id=\"sk-container-id-1\" class=\"sk-top-container\"><div class=\"sk-text-repr-fallback\"><pre>LogisticRegression(random_state=1)</pre><b>In a Jupyter environment, please rerun this cell to show the HTML representation or trust the notebook. <br />On GitHub, the HTML representation is unable to render, please try loading this page with nbviewer.org.</b></div><div class=\"sk-container\" hidden><div class=\"sk-item\"><div class=\"sk-estimator sk-toggleable\"><input class=\"sk-toggleable__control sk-hidden--visually\" id=\"sk-estimator-id-1\" type=\"checkbox\" checked><label for=\"sk-estimator-id-1\" class=\"sk-toggleable__label sk-toggleable__label-arrow\">LogisticRegression</label><div class=\"sk-toggleable__content\"><pre>LogisticRegression(random_state=1)</pre></div></div></div></div></div>"
      ],
      "text/plain": [
       "LogisticRegression(random_state=1)"
      ]
     },
     "execution_count": 32,
     "metadata": {},
     "output_type": "execute_result"
    }
   ],
   "source": [
    "# instantiate a logistic regression model\n",
    "classifier = LogisticRegression(solver='lbfgs', random_state=1)\n",
    "classifier"
   ]
  },
  {
   "cell_type": "code",
   "execution_count": 33,
   "metadata": {},
   "outputs": [
    {
     "data": {
      "text/html": [
       "<style>#sk-container-id-2 {color: black;background-color: white;}#sk-container-id-2 pre{padding: 0;}#sk-container-id-2 div.sk-toggleable {background-color: white;}#sk-container-id-2 label.sk-toggleable__label {cursor: pointer;display: block;width: 100%;margin-bottom: 0;padding: 0.3em;box-sizing: border-box;text-align: center;}#sk-container-id-2 label.sk-toggleable__label-arrow:before {content: \"▸\";float: left;margin-right: 0.25em;color: #696969;}#sk-container-id-2 label.sk-toggleable__label-arrow:hover:before {color: black;}#sk-container-id-2 div.sk-estimator:hover label.sk-toggleable__label-arrow:before {color: black;}#sk-container-id-2 div.sk-toggleable__content {max-height: 0;max-width: 0;overflow: hidden;text-align: left;background-color: #f0f8ff;}#sk-container-id-2 div.sk-toggleable__content pre {margin: 0.2em;color: black;border-radius: 0.25em;background-color: #f0f8ff;}#sk-container-id-2 input.sk-toggleable__control:checked~div.sk-toggleable__content {max-height: 200px;max-width: 100%;overflow: auto;}#sk-container-id-2 input.sk-toggleable__control:checked~label.sk-toggleable__label-arrow:before {content: \"▾\";}#sk-container-id-2 div.sk-estimator input.sk-toggleable__control:checked~label.sk-toggleable__label {background-color: #d4ebff;}#sk-container-id-2 div.sk-label input.sk-toggleable__control:checked~label.sk-toggleable__label {background-color: #d4ebff;}#sk-container-id-2 input.sk-hidden--visually {border: 0;clip: rect(1px 1px 1px 1px);clip: rect(1px, 1px, 1px, 1px);height: 1px;margin: -1px;overflow: hidden;padding: 0;position: absolute;width: 1px;}#sk-container-id-2 div.sk-estimator {font-family: monospace;background-color: #f0f8ff;border: 1px dotted black;border-radius: 0.25em;box-sizing: border-box;margin-bottom: 0.5em;}#sk-container-id-2 div.sk-estimator:hover {background-color: #d4ebff;}#sk-container-id-2 div.sk-parallel-item::after {content: \"\";width: 100%;border-bottom: 1px solid gray;flex-grow: 1;}#sk-container-id-2 div.sk-label:hover label.sk-toggleable__label {background-color: #d4ebff;}#sk-container-id-2 div.sk-serial::before {content: \"\";position: absolute;border-left: 1px solid gray;box-sizing: border-box;top: 0;bottom: 0;left: 50%;z-index: 0;}#sk-container-id-2 div.sk-serial {display: flex;flex-direction: column;align-items: center;background-color: white;padding-right: 0.2em;padding-left: 0.2em;position: relative;}#sk-container-id-2 div.sk-item {position: relative;z-index: 1;}#sk-container-id-2 div.sk-parallel {display: flex;align-items: stretch;justify-content: center;background-color: white;position: relative;}#sk-container-id-2 div.sk-item::before, #sk-container-id-2 div.sk-parallel-item::before {content: \"\";position: absolute;border-left: 1px solid gray;box-sizing: border-box;top: 0;bottom: 0;left: 50%;z-index: -1;}#sk-container-id-2 div.sk-parallel-item {display: flex;flex-direction: column;z-index: 1;position: relative;background-color: white;}#sk-container-id-2 div.sk-parallel-item:first-child::after {align-self: flex-end;width: 50%;}#sk-container-id-2 div.sk-parallel-item:last-child::after {align-self: flex-start;width: 50%;}#sk-container-id-2 div.sk-parallel-item:only-child::after {width: 0;}#sk-container-id-2 div.sk-dashed-wrapped {border: 1px dashed gray;margin: 0 0.4em 0.5em 0.4em;box-sizing: border-box;padding-bottom: 0.4em;background-color: white;}#sk-container-id-2 div.sk-label label {font-family: monospace;font-weight: bold;display: inline-block;line-height: 1.2em;}#sk-container-id-2 div.sk-label-container {text-align: center;}#sk-container-id-2 div.sk-container {/* jupyter's `normalize.less` sets `[hidden] { display: none; }` but bootstrap.min.css set `[hidden] { display: none !important; }` so we also need the `!important` here to be able to override the default hidden behavior on the sphinx rendered scikit-learn.org. See: https://github.com/scikit-learn/scikit-learn/issues/21755 */display: inline-block !important;position: relative;}#sk-container-id-2 div.sk-text-repr-fallback {display: none;}</style><div id=\"sk-container-id-2\" class=\"sk-top-container\"><div class=\"sk-text-repr-fallback\"><pre>LogisticRegression(random_state=1)</pre><b>In a Jupyter environment, please rerun this cell to show the HTML representation or trust the notebook. <br />On GitHub, the HTML representation is unable to render, please try loading this page with nbviewer.org.</b></div><div class=\"sk-container\" hidden><div class=\"sk-item\"><div class=\"sk-estimator sk-toggleable\"><input class=\"sk-toggleable__control sk-hidden--visually\" id=\"sk-estimator-id-2\" type=\"checkbox\" checked><label for=\"sk-estimator-id-2\" class=\"sk-toggleable__label sk-toggleable__label-arrow\">LogisticRegression</label><div class=\"sk-toggleable__content\"><pre>LogisticRegression(random_state=1)</pre></div></div></div></div></div>"
      ],
      "text/plain": [
       "LogisticRegression(random_state=1)"
      ]
     },
     "execution_count": 33,
     "metadata": {},
     "output_type": "execute_result"
    }
   ],
   "source": [
    "# fit our model with data(training)\n",
    "classifier.fit(X_train, y_train)"
   ]
  },
  {
   "cell_type": "code",
   "execution_count": 34,
   "metadata": {},
   "outputs": [
    {
     "data": {
      "text/plain": [
       "array(['low_risk', 'low_risk', 'low_risk', ..., 'low_risk', 'low_risk',\n",
       "       'low_risk'], dtype=object)"
      ]
     },
     "execution_count": 34,
     "metadata": {},
     "output_type": "execute_result"
    }
   ],
   "source": [
    "# create predictions using predict method()\n",
    "y_pred = classifier.predict(X_test)\n",
    "y_pred"
   ]
  },
  {
   "cell_type": "code",
   "execution_count": 35,
   "metadata": {},
   "outputs": [
    {
     "data": {
      "text/plain": [
       "<bound method DataFrame.value_counts of       Prediction    Actual\n",
       "7034    low_risk  low_risk\n",
       "38804   low_risk  low_risk\n",
       "65533   low_risk  low_risk\n",
       "37736   low_risk  low_risk\n",
       "6390    low_risk  low_risk\n",
       "...          ...       ...\n",
       "31854   low_risk  low_risk\n",
       "27835   low_risk  low_risk\n",
       "3089    low_risk  low_risk\n",
       "43343   low_risk  low_risk\n",
       "27206   low_risk  low_risk\n",
       "\n",
       "[17205 rows x 2 columns]>"
      ]
     },
     "execution_count": 35,
     "metadata": {},
     "output_type": "execute_result"
    }
   ],
   "source": [
    "pd.DataFrame({\"Prediction\": y_pred, \"Actual\": y_test}).value_counts"
   ]
  },
  {
   "cell_type": "code",
   "execution_count": 36,
   "metadata": {},
   "outputs": [
    {
     "data": {
      "text/plain": [
       "0.995059575704737"
      ]
     },
     "execution_count": 36,
     "metadata": {},
     "output_type": "execute_result"
    }
   ],
   "source": [
    "# calculate model accuracy\n",
    "from sklearn.metrics import accuracy_score\n",
    "accuracy_score(y_test, y_pred)"
   ]
  },
  {
   "cell_type": "code",
   "execution_count": 37,
   "metadata": {},
   "outputs": [
    {
     "name": "stdout",
     "output_type": "stream",
     "text": [
      "[[   21    80]\n",
      " [    5 17099]]\n"
     ]
    }
   ],
   "source": [
    "# create a confusion matrix\n",
    "from sklearn.metrics import confusion_matrix, classification_report\n",
    "cm = confusion_matrix(y_test, y_pred)\n",
    "print(cm)"
   ]
  },
  {
   "cell_type": "code",
   "execution_count": 38,
   "metadata": {},
   "outputs": [],
   "source": [
    "from sklearn.metrics import balanced_accuracy_score\n",
    "from sklearn.metrics import ConfusionMatrixDisplay"
   ]
  },
  {
   "cell_type": "code",
   "execution_count": 39,
   "metadata": {},
   "outputs": [
    {
     "data": {
      "text/plain": [
       "<sklearn.metrics._plot.confusion_matrix.ConfusionMatrixDisplay at 0x7fdadc0c45e0>"
      ]
     },
     "execution_count": 39,
     "metadata": {},
     "output_type": "execute_result"
    },
    {
     "data": {
      "image/png": "[encoded data removed]",
      "text/plain": [
       "<Figure size 432x288 with 2 Axes>"
      ]
     },
     "metadata": {
      "needs_background": "light"
     },
     "output_type": "display_data"
    }
   ],
   "source": [
    "#confusion matris using ConfusionMatrixDisplay\n",
    "disp = ConfusionMatrixDisplay(confusion_matrix=cm,display_labels=classifier.classes_)\n",
    "disp.plot()"
   ]
  },
  {
   "cell_type": "code",
   "execution_count": 40,
   "metadata": {},
   "outputs": [
    {
     "name": "stdout",
     "output_type": "stream",
     "text": [
      "              precision    recall  f1-score   support\n",
      "\n",
      "   high_risk       0.81      0.21      0.33       101\n",
      "    low_risk       1.00      1.00      1.00     17104\n",
      "\n",
      "    accuracy                           1.00     17205\n",
      "   macro avg       0.90      0.60      0.66     17205\n",
      "weighted avg       0.99      1.00      0.99     17205\n",
      "\n"
     ]
    }
   ],
   "source": [
    "# view classification report\n",
    "report = classification_report(y_test, y_pred)\n",
    "print(report)"
   ]
  },
  {
   "cell_type": "code",
   "execution_count": 41,
   "metadata": {},
   "outputs": [
    {
     "name": "stdout",
     "output_type": "stream",
     "text": [
      "                   pre       rec       spe        f1       geo       iba       sup\n",
      "\n",
      "  high_risk       0.81      0.21      1.00      0.33      0.46      0.19       101\n",
      "   low_risk       1.00      1.00      0.21      1.00      0.46      0.22     17104\n",
      "\n",
      "avg / total       0.99      1.00      0.21      0.99      0.46      0.22     17205\n",
      "\n"
     ]
    }
   ],
   "source": [
    "# from imbalanced_learned dependencies\n",
    "from imblearn.metrics import classification_report_imbalanced\n",
    "print(classification_report_imbalanced(y_test, y_pred))\n"
   ]
  },
  {
   "cell_type": "markdown",
   "metadata": {},
   "source": [
    "# Oversampling\n",
    "\n",
    "In this section, you will compare two oversampling algorithms to determine which algorithm results in the best performance. You will oversample the data using the naive random oversampling algorithm and the SMOTE algorithm. For each algorithm, be sure to complete the folliowing steps:\n",
    "\n",
    "1. View the count of the target classes using `Counter` from the collections library. \n",
    "3. Use the resampled data to train a logistic regression model.\n",
    "3. Calculate the balanced accuracy score from sklearn.metrics.\n",
    "4. Print the confusion matrix from sklearn.metrics.\n",
    "5. Generate a classication report using the `imbalanced_classification_report` from imbalanced-learn.\n",
    "\n",
    "Note: Use a random state of 1 for each sampling algorithm to ensure consistency between tests"
   ]
  },
  {
   "cell_type": "markdown",
   "metadata": {},
   "source": [
    "### Naive Random Oversampling"
   ]
  },
  {
   "cell_type": "code",
   "execution_count": 62,
   "metadata": {},
   "outputs": [],
   "source": [
    "# Resample the training data with the RandomOversampler\n",
    "from imblearn.over_sampling import RandomOverSampler\n",
    "ros = RandomOverSampler(random_state=1)\n",
    "X_resampled, y_resampled = ros.fit_resample(X_train, y_train)"
   ]
  },
  {
   "cell_type": "code",
   "execution_count": 63,
   "metadata": {},
   "outputs": [
    {
     "data": {
      "text/plain": [
       "Counter({'low_risk': 51366, 'high_risk': 51366})"
      ]
     },
     "execution_count": 63,
     "metadata": {},
     "output_type": "execute_result"
    }
   ],
   "source": [
    "# what is balance or mix between loan status\n",
    "Counter(y_resampled)\n"
   ]
  },
  {
   "cell_type": "code",
   "execution_count": 70,
   "metadata": {},
   "outputs": [],
   "source": [
    "# Train the Logistic Regression model using the resampled data\n",
    "model = LogisticRegression(solver='lbfgs', random_state=1)\n",
    "model.fit(X_resampled, y_resampled)\n",
    "y_pred = model.predict(X_test)"
   ]
  },
  {
   "cell_type": "code",
   "execution_count": 74,
   "metadata": {},
   "outputs": [
    {
     "data": {
      "text/plain": [
       "0.8325468421491353"
      ]
     },
     "execution_count": 74,
     "metadata": {},
     "output_type": "execute_result"
    }
   ],
   "source": [
    "# Calculated the balanced accuracy score\n",
    "balanced_accuracy_score(y_test, y_pred)"
   ]
  },
  {
   "cell_type": "code",
   "execution_count": 78,
   "metadata": {},
   "outputs": [],
   "source": [
    "# Display the confusion matrix\n",
    "\n",
    "cm=confusion_matrix(y_test, y_pred, labels=model.classes_)"
   ]
  },
  {
   "cell_type": "code",
   "execution_count": 118,
   "metadata": {},
   "outputs": [
    {
     "data": {
      "image/png": "[encoded data removed]",
      "text/plain": [
       "<Figure size 432x288 with 2 Axes>"
      ]
     },
     "metadata": {
      "needs_background": "light"
     },
     "output_type": "display_data"
    }
   ],
   "source": [
    "#confusion matris using ConfusionMatrixDisplay\n",
    "disp = ConfusionMatrixDisplay(confusion_matrix=cm,display_labels= model.classes_)\n",
    "disp.plot()\n",
    "\n",
    "# save the image\n",
    "plt.savefig(\"./Images/RandomOverSampler_confusion_matrix.png\")\n",
    "plt.show()"
   ]
  },
  {
   "cell_type": "code",
   "execution_count": 113,
   "metadata": {},
   "outputs": [
    {
     "name": "stdout",
     "output_type": "stream",
     "text": [
      "RandomeOverSampler\n",
      "                   pre       rec       spe        f1       geo       iba       sup\n",
      "\n",
      "  high_risk       0.03      0.83      0.86      0.06      0.84      0.71       101\n",
      "   low_risk       1.00      0.86      0.83      0.92      0.84      0.71     17104\n",
      "\n",
      "avg / total       0.99      0.86      0.83      0.92      0.84      0.71     17205\n",
      "\n"
     ]
    }
   ],
   "source": [
    "# Print the imbalanced classification report\n",
    "print(\"RandomeOverSampler\")\n",
    "print(classification_report_imbalanced(y_test, y_pred))"
   ]
  },
  {
   "cell_type": "markdown",
   "metadata": {},
   "source": [
    "### SMOTE Oversampling"
   ]
  },
  {
   "cell_type": "code",
   "execution_count": 80,
   "metadata": {},
   "outputs": [],
   "source": [
    "# Resample the training data with SMOTE\n",
    "from imblearn.over_sampling import SMOTE\n",
    "X_resampled, y_resampled = SMOTE(random_state=1,\n",
    "sampling_strategy='auto').fit_resample(\n",
    "   X_train, y_train)\n"
   ]
  },
  {
   "cell_type": "code",
   "execution_count": 81,
   "metadata": {},
   "outputs": [
    {
     "data": {
      "text/plain": [
       "Counter({'low_risk': 51366, 'high_risk': 51366})"
      ]
     },
     "execution_count": 81,
     "metadata": {},
     "output_type": "execute_result"
    }
   ],
   "source": [
    "Counter(y_resampled)"
   ]
  },
  {
   "cell_type": "code",
   "execution_count": 87,
   "metadata": {},
   "outputs": [],
   "source": [
    "# Train the Logistic Regression model using the resampled data\n",
    "model = LogisticRegression(solver='lbfgs', random_state=1)\n",
    "model.fit(X_resampled, y_resampled)\n",
    "y_pred = model.predict(X_test)"
   ]
  },
  {
   "cell_type": "code",
   "execution_count": 88,
   "metadata": {},
   "outputs": [
    {
     "data": {
      "text/plain": [
       "0.8440938486973113"
      ]
     },
     "execution_count": 88,
     "metadata": {},
     "output_type": "execute_result"
    }
   ],
   "source": [
    "# Calculated the balanced accuracy score\n",
    "balanced_accuracy_score(y_test, y_pred)"
   ]
  },
  {
   "cell_type": "code",
   "execution_count": 92,
   "metadata": {},
   "outputs": [
    {
     "name": "stdout",
     "output_type": "stream",
     "text": [
      "[[   83    18]\n",
      " [ 2285 14819]]\n"
     ]
    }
   ],
   "source": [
    "# Display the confusion matrix\n",
    "cm=confusion_matrix(y_test, y_pred, labels=model.classes_)\n",
    "print(cm)"
   ]
  },
  {
   "cell_type": "code",
   "execution_count": 119,
   "metadata": {},
   "outputs": [
    {
     "data": {
      "image/png": "[encoded data removed]",
      "text/plain": [
       "<Figure size 432x288 with 2 Axes>"
      ]
     },
     "metadata": {
      "needs_background": "light"
     },
     "output_type": "display_data"
    }
   ],
   "source": [
    "#confusion matris using ConfusionMatrixDisplay\n",
    "disp = ConfusionMatrixDisplay(confusion_matrix=cm,display_labels= model.classes_)\n",
    "disp.plot()\n",
    "\n",
    "# save the image\n",
    "plt.savefig(\"./Images/Smote_confusion_matrix.png\")\n",
    "plt.show()"
   ]
  },
  {
   "cell_type": "code",
   "execution_count": 117,
   "metadata": {},
   "outputs": [
    {
     "name": "stdout",
     "output_type": "stream",
     "text": [
      "Smote\n",
      "                   pre       rec       spe        f1       geo       iba       sup\n",
      "\n",
      "  high_risk       0.03      0.83      0.86      0.06      0.84      0.71       101\n",
      "   low_risk       1.00      0.86      0.83      0.92      0.84      0.71     17104\n",
      "\n",
      "avg / total       0.99      0.86      0.83      0.92      0.84      0.71     17205\n",
      "\n"
     ]
    }
   ],
   "source": [
    "# Print the imbalanced classification report\n",
    "print(\"Smote\")\n",
    "print(classification_report_imbalanced(y_test, y_pred))"
   ]
  },
  {
   "cell_type": "markdown",
   "metadata": {},
   "source": [
    "# Undersampling\n",
    "\n",
    "In this section, you will test an undersampling algorithms to determine which algorithm results in the best performance compared to the oversampling algorithms above. You will undersample the data using the Cluster Centroids algorithm and complete the folliowing steps:\n",
    "\n",
    "1. View the count of the target classes using `Counter` from the collections library. \n",
    "3. Use the resampled data to train a logistic regression model.\n",
    "3. Calculate the balanced accuracy score from sklearn.metrics.\n",
    "4. Print the confusion matrix from sklearn.metrics.\n",
    "5. Generate a classication report using the `imbalanced_classification_report` from imbalanced-learn.\n",
    "\n",
    "Note: Use a random state of 1 for each sampling algorithm to ensure consistency between tests"
   ]
  },
  {
   "cell_type": "code",
   "execution_count": 93,
   "metadata": {},
   "outputs": [],
   "source": [
    "# Resample the data using the ClusterCentroids resampler\n",
    "# Warning: This is a large dataset, and this step may take some time to complete\n",
    "from imblearn.under_sampling import ClusterCentroids\n",
    "cc = ClusterCentroids(random_state=1)\n",
    "X_resampled, y_resampled = cc.fit_resample(X_train, y_train)"
   ]
  },
  {
   "cell_type": "code",
   "execution_count": 96,
   "metadata": {},
   "outputs": [],
   "source": [
    "# Train the Logistic Regression model using the resampled data\n",
    "model = LogisticRegression(solver='lbfgs', random_state=1)\n",
    "model.fit(X_resampled, y_resampled)\n",
    "y_pred = model.predict(X_test)"
   ]
  },
  {
   "cell_type": "code",
   "execution_count": 97,
   "metadata": {},
   "outputs": [
    {
     "data": {
      "text/plain": [
       "0.8203882595930314"
      ]
     },
     "execution_count": 97,
     "metadata": {},
     "output_type": "execute_result"
    }
   ],
   "source": [
    "# Calculated the balanced accuracy score\n",
    "balanced_accuracy_score(y_test, y_pred)\n"
   ]
  },
  {
   "cell_type": "code",
   "execution_count": 98,
   "metadata": {},
   "outputs": [
    {
     "name": "stdout",
     "output_type": "stream",
     "text": [
      "[[   89    12]\n",
      " [ 4112 12992]]\n"
     ]
    }
   ],
   "source": [
    "# Display the confusion matrix\n",
    "cm=confusion_matrix(y_test, y_pred, labels=model.classes_)\n",
    "print(cm)"
   ]
  },
  {
   "cell_type": "code",
   "execution_count": 112,
   "metadata": {},
   "outputs": [
    {
     "data": {
      "image/png": "[encoded data removed]",
      "text/plain": [
       "<Figure size 432x288 with 2 Axes>"
      ]
     },
     "metadata": {
      "needs_background": "light"
     },
     "output_type": "display_data"
    }
   ],
   "source": [
    "#confusion matris using ConfusionMatrixDisplay\n",
    "disp = ConfusionMatrixDisplay(confusion_matrix=cm,display_labels= model.classes_)\n",
    "disp.plot()\n",
    "\n",
    "# save the image\n",
    "plt.savefig(\"./Images/ClusterCentroids_confusion_matrix.png\")\n",
    "plt.show()"
   ]
  },
  {
   "cell_type": "code",
   "execution_count": 100,
   "metadata": {},
   "outputs": [
    {
     "name": "stdout",
     "output_type": "stream",
     "text": [
      "                   pre       rec       spe        f1       geo       iba       sup\n",
      "\n",
      "  high_risk       0.02      0.88      0.76      0.04      0.82      0.68       101\n",
      "   low_risk       1.00      0.76      0.88      0.86      0.82      0.66     17104\n",
      "\n",
      "avg / total       0.99      0.76      0.88      0.86      0.82      0.66     17205\n",
      "\n"
     ]
    }
   ],
   "source": [
    "# Print the imbalanced classification report\n",
    "print(classification_report_imbalanced(y_test, y_pred))"
   ]
  },
  {
   "cell_type": "markdown",
   "metadata": {},
   "source": [
    "# Combination (Over and Under) Sampling\n",
    "\n",
    "In this section, you will test a combination over- and under-sampling algorithm to determine if the algorithm results in the best performance compared to the other sampling algorithms above. You will resample the data using the SMOTEENN algorithm and complete the folliowing steps:\n",
    "\n",
    "1. View the count of the target classes using `Counter` from the collections library. \n",
    "3. Use the resampled data to train a logistic regression model.\n",
    "3. Calculate the balanced accuracy score from sklearn.metrics.\n",
    "4. Print the confusion matrix from sklearn.metrics.\n",
    "5. Generate a classication report using the `imbalanced_classification_report` from imbalanced-learn.\n",
    "\n",
    "Note: Use a random state of 1 for each sampling algorithm to ensure consistency between tests"
   ]
  },
  {
   "cell_type": "code",
   "execution_count": 102,
   "metadata": {},
   "outputs": [],
   "source": [
    "# Resample the training data with SMOTEENN\n",
    "# Warning: This is a large dataset, and this step may take some time to complete\n",
    "from imblearn.combine import SMOTEENN\n",
    "smote_enn = SMOTEENN(random_state=0)\n",
    "X_resampled, y_resampled = smote_enn.fit_resample(X_train, y_train)"
   ]
  },
  {
   "cell_type": "code",
   "execution_count": 103,
   "metadata": {},
   "outputs": [],
   "source": [
    "# Train the Logistic Regression model using the resampled data\n",
    "model = LogisticRegression(solver='lbfgs', random_state=1)\n",
    "model.fit(X_resampled, y_resampled)\n",
    "y_pred = model.predict(X_test)"
   ]
  },
  {
   "cell_type": "code",
   "execution_count": 104,
   "metadata": {},
   "outputs": [
    {
     "data": {
      "text/plain": [
       "0.844016280135965"
      ]
     },
     "execution_count": 104,
     "metadata": {},
     "output_type": "execute_result"
    }
   ],
   "source": [
    "# Calculated the balanced accuracy score\n",
    "balanced_accuracy_score(y_test, y_pred)"
   ]
  },
  {
   "cell_type": "code",
   "execution_count": 105,
   "metadata": {},
   "outputs": [
    {
     "name": "stdout",
     "output_type": "stream",
     "text": [
      "[[   84    17]\n",
      " [ 2457 14647]]\n"
     ]
    }
   ],
   "source": [
    "# Display the confusion matrix\n",
    "cm=confusion_matrix(y_test, y_pred, labels=model.classes_)\n",
    "print(cm)"
   ]
  },
  {
   "cell_type": "code",
   "execution_count": 120,
   "metadata": {},
   "outputs": [
    {
     "data": {
      "image/png": "[encoded data removed]",
      "text/plain": [
       "<Figure size 432x288 with 2 Axes>"
      ]
     },
     "metadata": {
      "needs_background": "light"
     },
     "output_type": "display_data"
    }
   ],
   "source": [
    "#confusion matris using ConfusionMatrixDisplay\n",
    "disp = ConfusionMatrixDisplay(confusion_matrix=cm,display_labels= model.classes_)\n",
    "disp.plot()\n",
    "\n",
    "# save the image\n",
    "plt.savefig(\"./Images/Smoteenn_confusion_matrix.png\")\n",
    "plt.show()"
   ]
  },
  {
   "cell_type": "code",
   "execution_count": 121,
   "metadata": {},
   "outputs": [
    {
     "name": "stdout",
     "output_type": "stream",
     "text": [
      "Smoteenn\n",
      "                   pre       rec       spe        f1       geo       iba       sup\n",
      "\n",
      "  high_risk       0.03      0.83      0.86      0.06      0.84      0.71       101\n",
      "   low_risk       1.00      0.86      0.83      0.92      0.84      0.71     17104\n",
      "\n",
      "avg / total       0.99      0.86      0.83      0.92      0.84      0.71     17205\n",
      "\n"
     ]
    }
   ],
   "source": [
    "# Print the imbalanced classification report\n",
    "print(\"Smoteenn\")\n",
    "print(classification_report_imbalanced(y_test, y_pred))"
   ]
  },
  {
   "cell_type": "code",
   "execution_count": null,
   "metadata": {},
   "outputs": [],
   "source": []
  }
 ],
 "metadata": {
  "kernelspec": {
   "display_name": "mlenv",
   "language": "python",
   "name": "mlenv"
  },
  "language_info": {
   "codemirror_mode": {
    "name": "ipython",
    "version": 3
   },
   "file_extension": ".py",
   "mimetype": "text/x-python",
   "name": "python",
   "nbconvert_exporter": "python",
   "pygments_lexer": "ipython3",
   "version": "3.9.12"
  }
 },
 "nbformat": 4,
 "nbformat_minor": 2
}
